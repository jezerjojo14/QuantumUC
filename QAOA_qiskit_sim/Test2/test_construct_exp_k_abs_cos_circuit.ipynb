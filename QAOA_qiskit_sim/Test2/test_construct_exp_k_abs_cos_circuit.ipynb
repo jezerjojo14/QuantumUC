{
 "cells": [
  {
   "cell_type": "code",
   "execution_count": 1,
   "id": "15f339f7",
   "metadata": {},
   "outputs": [
    {
     "data": {
      "text/html": [
       "<style>.container { width:100% !important; }</style>"
      ],
      "text/plain": [
       "<IPython.core.display.HTML object>"
      ]
     },
     "metadata": {},
     "output_type": "display_data"
    },
    {
     "data": {
      "text/html": [
       "<style>.output_result { max-width:100% !important; }</style>"
      ],
      "text/plain": [
       "<IPython.core.display.HTML object>"
      ]
     },
     "metadata": {},
     "output_type": "display_data"
    }
   ],
   "source": [
    "from IPython.display import display, HTML\n",
    "display(HTML(\"<style>.container { width:100% !important; }</style>\"))\n",
    "display(HTML(\"<style>.output_result { max-width:100% !important; }</style>\"))\n",
    "from qiskit.algorithms.optimizers import SPSA\n",
    "\n",
    "from problem_formulation import Node, Line , Grid , UCProblem\n",
    "from qiskit.circuit import ParameterVector\n",
    "import numpy as np\n",
    "from qiskit import QuantumCircuit, transpile, QuantumRegister, ClassicalRegister, assemble\n",
    "import json\n",
    "import os"
   ]
  },
  {
   "cell_type": "code",
   "execution_count": 2,
   "id": "0710fc93",
   "metadata": {},
   "outputs": [],
   "source": [
    "def power_expansion(n, expression, power):\n",
    "    \n",
    "    \"\"\"\n",
    "    Runs fortran code to take in polynomial expression of binary variables and returns\n",
    "    an expression for that polynomial to some power n, and reads the output through a terminal.\n",
    "\n",
    "    n (int): The number of variables\n",
    "    expression (array/list of floats): Coefficients of all possible terms such that the m-th element is\n",
    "                                  the coefficient of (x_1^m_1)(x_2^m_2)...(x_n^m_n) where the binary\n",
    "                                  expansion of m is m_n...m_2m_1.\n",
    "    power (int): Power to exponentiate the expression to.\n",
    "\n",
    "    Returns: An expression in the same format of the input raised to the given power\n",
    "    \"\"\"\n",
    "\n",
    "    #print(\"\\tPower expansion\")\n",
    "    #print(\"\\tPower: \", power)\n",
    "\n",
    "  # Call fortran program via command line to do the computation\n",
    "    inputLine = './taylor_precomp_fortran' +' ' +str(n) + ' '+ ' '.join([str(float(el)) for el in expression])+ ' ' + str(int(power))\n",
    "    data = os.popen(inputLine).read().split()\n",
    "    \n",
    "    #print(\"Data read:\", data)\n",
    "    output_expression=[float(el) for el in data]\n",
    "    #print(\"Output expression\", output_expression)\n",
    "    return np.array(output_expression)\n",
    "\n"
   ]
  },
  {
   "cell_type": "code",
   "execution_count": 3,
   "id": "6dfa8fa6",
   "metadata": {},
   "outputs": [],
   "source": [
    "def get_cos_expression(n, no_terms):\n",
    "    \"\"\"\n",
    "    Use Taylor expansion of cos(2pi*x) to get a polynomial expression of x expressed in terms\n",
    "    of its binary digits encoded such that the maximum value x can take (x_i=1 for all i) is\n",
    "    (2^n - 1)/2^n.\n",
    "\n",
    "    n (int): Number of bits of x.\n",
    "    no_terms (int): Number of terms of the Taylor expansion to be used.\n",
    "\n",
    "    Returns: Polynomial expression for cos(2pi*x) encoded as a list such that the m-th element\n",
    "             is the coefficient of (x_1^m_1)(x_2^m_2)...(x_n^m_n) where the binary\n",
    "             expansion of m is m_n...m_2m_1.\n",
    "    \"\"\"\n",
    "    \n",
    "    print(\"Get cos(x) expression\")\n",
    "\n",
    "    # Express the binary expansion of x in the same way we express the output \n",
    "    # polynomaial as lists of coefficients\n",
    "\n",
    "    x_expansion=np.array([0.0 for _ in range(2**n)])\n",
    "\n",
    "    # x = (2*pi/2^n)\\sum 2^i x_i  -  pi\n",
    "\n",
    "    x_expansion[0]=-np.pi\n",
    "\n",
    "    for i in range(n):\n",
    "        x_expansion[2**i]=2**i*(2*np.pi)/2**n\n",
    "\n",
    "    # cos_expansion: Taylor expansion of cos where the coefficient of x^i is stored in the i-th element \n",
    "    cos_expansion=[((-1)**(1+i/2)/np.math.factorial(i) if i%2==0 else 0) for i in range(2*no_terms-1)]\n",
    "\n",
    "    # cos_expression: Final polynomial expression approximating cos(x) where we store the coefficients\n",
    "    # of every possible term of binary variables\n",
    "    cos_expression=np.array([0.0 for _ in range(2**n)])\n",
    "\n",
    "    # Calculate expression of x^2 in terms of binary variables first since cos is an even function\n",
    "    x_2=power_expansion(n,x_expansion,2)\n",
    "\n",
    "    # Calculate polynomial expression for each term in cos_expansion and keep adding to\n",
    "    # cos expression\n",
    "    for i in range(len(cos_expansion)):\n",
    "        if cos_expansion[i]!=0:\n",
    "            cos_expression+=cos_expansion[i]*(power_expansion(n, x_2, i/2))\n",
    "    return cos_expression"
   ]
  },
  {
   "cell_type": "code",
   "execution_count": 4,
   "id": "29cfd6aa",
   "metadata": {},
   "outputs": [],
   "source": [
    "\n",
    "node1=Node([20,20], 1, 1, 1, \"gen1\")\n",
    "node2=Node([60,60], 1, 1, 1, \"gen2\")\n",
    "node3=Node([-80,-80], 0,0,0, \"load1\")\n",
    "line1=Line(node1,node2,80,80)\n",
    "line2=Line(node1,node3,80,80)\n",
    "line3=Line(node2,node3,20,20)\n",
    "lines = [line1,line2,line3]\n",
    "nodes = [node1,node2,node3]\n",
    "nodes.sort(reverse=True, key=lambda node:node.real_power[0])\n",
    "        "
   ]
  },
  {
   "cell_type": "code",
   "execution_count": 5,
   "id": "8416a5a8",
   "metadata": {},
   "outputs": [],
   "source": [
    "\n",
    "grid_timesteps = Grid(lines, nodes, [True for _ in nodes])\n",
    "\n",
    "B=grid_timesteps.A\n",
    "C, max_eigval=grid_timesteps.A_eig_bounds\n"
   ]
  },
  {
   "cell_type": "code",
   "execution_count": 6,
   "id": "0c3aee65",
   "metadata": {},
   "outputs": [
    {
     "data": {
      "text/plain": [
       "ParameterExpression(43411.1494937404*p_temp[0])"
      ]
     },
     "execution_count": 6,
     "metadata": {},
     "output_type": "execute_result"
    }
   ],
   "source": [
    "qadc_qubit_count = 2\n",
    "n = qadc_qubit_count\n",
    "no_terms = 4\n",
    "#k = \n",
    "t = 0\n",
    "i = 1\n",
    "j = 0\n",
    "C_L = 80\n",
    "real_powers = [node.real_power for node in nodes]\n",
    "min_eigval = C\n",
    "params_temp=ParameterVector('p_temp', 2)\n",
    "\n",
    "k = abs(B[i][j])*C_L*(np.linalg.norm(np.array([r[t] for r in real_powers]))/min_eigval)*params_temp[0]\n",
    "k"
   ]
  },
  {
   "cell_type": "code",
   "execution_count": 7,
   "id": "caa1bcac",
   "metadata": {},
   "outputs": [
    {
     "name": "stdout",
     "output_type": "stream",
     "text": [
      "Constructing exp(ik|cos(x)|)\n",
      "Get cos(x) expression\n"
     ]
    }
   ],
   "source": [
    "#def construct_exp_k_abs_cos_circuit(n, no_terms, k):\n",
    "\"\"\"\n",
    "Create a QuantumCircuit that, given |x>, pulls out a phase exp(ik|cos(x)|)\n",
    "\n",
    "n (int): Number of bits of x.\n",
    "no_terms (int): Number of terms of the Taylor expansion to be used.\n",
    "k (float|int): Constant k in expression exp(ik|cos(x)|)\n",
    "\n",
    "Returns: QuantumCircuit\n",
    "\"\"\"\n",
    "qc=QuantumCircuit(n)\n",
    "\n",
    "print(\"Constructing exp(ik|cos(x)|)\")\n",
    "\n",
    "# Check if angles have already been computed and stored in json file. If so, use them.\n",
    "\n",
    "with open('cos_angles.json') as f:\n",
    "    data = json.load(f)\n",
    "\n",
    "if str(n)+\"_\"+str(no_terms) in data.keys():\n",
    "    cos_expression=data[str(n)+\"_\"+str(no_terms)][\"angles\"]\n",
    "else:\n",
    "    cos_expression=get_cos_expression(n, no_terms)\n",
    "\n",
    "    with open('cos_angles.json', 'w', encoding='utf-8') as f:\n",
    "        data[str(n)+\"_\"+str(no_terms)+\"_\"+str(k)]={\"angles\": list(cos_expression)}\n",
    "        json.dump(data, f, ensure_ascii=False, indent=4)"
   ]
  },
  {
   "cell_type": "code",
   "execution_count": 8,
   "id": "c4975415",
   "metadata": {},
   "outputs": [
    {
     "data": {
      "text/plain": [
       "array([ 1.21135284, -1.21045832, -2.21135284,  2.21135284])"
      ]
     },
     "execution_count": 8,
     "metadata": {},
     "output_type": "execute_result"
    }
   ],
   "source": [
    "cos_expression"
   ]
  },
  {
   "cell_type": "code",
   "execution_count": 13,
   "id": "1b7c2e0b",
   "metadata": {},
   "outputs": [
    {
     "data": {
      "text/plain": [
       "[1, 1, 1, 1]"
      ]
     },
     "execution_count": 13,
     "metadata": {},
     "output_type": "execute_result"
    }
   ],
   "source": [
    "terms_dealt"
   ]
  },
  {
   "cell_type": "code",
   "execution_count": 11,
   "id": "cc1ae36c",
   "metadata": {},
   "outputs": [],
   "source": [
    "\n",
    "\n",
    "# Each term in the expression we get is a phase that is to be added, controlled on certain\n",
    "# qubits. The order in which we apply these phases doesn't matter. We might as well pick an\n",
    "# order that minimizes depth and packs all the operations as tightly as possible.\n",
    "\n",
    "# This list keeps track of which terms in the expression have already been dealt with on the circuit\n",
    "terms_dealt=[0 for _ in cos_expression]\n",
    "\n",
    "# While there are terms that haven't been worked into the circuit, keep running this loop.\n",
    "# Each iteration deals with one layer of depth and picks the terms from the expression that maximizes\n",
    "# the number of qubits used while making sure none of the terms overlap.\n",
    "# This is a greedy algorithm to minimize the depth.\n",
    "while 0 in terms_dealt:\n",
    "    # i is the index of the term that is being looked at. We initialize it to 0\n",
    "    i=0\n",
    "    # Keep track of the terms that make up the current layer \n",
    "    current_terms=[]\n",
    "    while i < len(cos_expression):\n",
    "        # If the i-th term has already been dealt with, increment i by 1 and continue\n",
    "        if terms_dealt[i]==1:\n",
    "            i+=1\n",
    "            continue\n",
    "        # If the i-th coefficient is 0, no operation is necessary. Increment i by 1 and continue. \n",
    "        if cos_expression[i]==0:\n",
    "            terms_dealt[i]=1\n",
    "            i+=1\n",
    "            continue\n",
    "\n",
    "        # If we're still in the loop at this point, we have a non trivial term in the expression.\n",
    "        # Define the variable 'term' as a list with 0-th element being the phase angle and 1st element\n",
    "        # being a list of qubit indices that should control the phase for this term\n",
    "        term=[cos_expression[i], [n-1-m for m in range(n) if (format(i, 'b').zfill(n))[m]=='1']]\n",
    "\n",
    "        # This if condition checks to make sure there is no repetition in qubits used if you added\n",
    "        # the qubits from term to the qubits of all the terms in current_terms\n",
    "        if len([el for c_term in current_terms for el in c_term[1]]+term[1])==len(list(set([el for c_term in current_terms for el in c_term[1]]+term[1]))):\n",
    "            # If there is no repetition, then add term to current_terms, set terms_dealt to 1\n",
    "            # to indicate that the i-th term is dealt with now.\n",
    "            terms_dealt[i]=1\n",
    "            current_terms+=[term]\n",
    "\n",
    "            # We will add a phase indicated by term[0] and controlled on the qubits\n",
    "            # specified in term[1]\n",
    "            angle=term[0]\n",
    "            bits=term[1]\n",
    "\n",
    "            # Replacing the last qubit with the second last one changes the polynomial expression\n",
    "            # for cos(x) to that of |cos(x)|\n",
    "            if n-1 in bits:\n",
    "                bits.remove(n-1)\n",
    "                if n-2 not in bits:\n",
    "                    bits+=[n-2]\n",
    "\n",
    "            # Apply the gate to add the phase\n",
    "            if len(bits)==1:\n",
    "                qc.p(k*angle, bits[0])\n",
    "            elif len(bits)==2:\n",
    "                qc.cp(k*angle, bits[0], bits[1])\n",
    "            elif len(bits)>2:\n",
    "                qc.mcp(k*angle, [bit for bit in bits[1:]], bits[0])\n",
    "\n",
    "        i+=1\n",
    "\n",
    "#return qc\n"
   ]
  },
  {
   "cell_type": "code",
   "execution_count": 12,
   "id": "07b51e48",
   "metadata": {},
   "outputs": [
    {
     "data": {
      "image/png": "[encoded data removed]",
      "text/plain": [
       "<Figure size 1410.85x144.48 with 1 Axes>"
      ]
     },
     "execution_count": 12,
     "metadata": {},
     "output_type": "execute_result"
    }
   ],
   "source": [
    "qc.draw(\"mpl\")"
   ]
  },
  {
   "cell_type": "code",
   "execution_count": null,
   "id": "3008a9f3",
   "metadata": {},
   "outputs": [],
   "source": []
  }
 ],
 "metadata": {
  "kernelspec": {
   "display_name": "Python 3 (ipykernel)",
   "language": "python",
   "name": "python3"
  },
  "language_info": {
   "codemirror_mode": {
    "name": "ipython",
    "version": 3
   },
   "file_extension": ".py",
   "mimetype": "text/x-python",
   "name": "python",
   "nbconvert_exporter": "python",
   "pygments_lexer": "ipython3",
   "version": "3.10.4"
  }
 },
 "nbformat": 4,
 "nbformat_minor": 5
}
