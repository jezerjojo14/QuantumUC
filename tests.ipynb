{
 "cells": [
  {
   "cell_type": "code",
   "execution_count": 1,
   "metadata": {},
   "outputs": [],
   "source": [
    "from QAOA_ansatz import create_QAOA_ansatz, create_hhl_circ\n",
    "from amp_est import real_amp_est\n",
    "from taylor_precomputation import construct_asin_x_inv_circuit, construct_exp_k_abs_cos_circuit\n",
    "from problem_formulation import Node, Line, Grid, UCProblem"
   ]
  },
  {
   "cell_type": "code",
   "execution_count": 2,
   "metadata": {},
   "outputs": [],
   "source": [
    "import numpy as np\n",
    "from math import pi\n",
    "from qiskit import QuantumCircuit, transpile, QuantumRegister, ClassicalRegister\n",
    "from qiskit.providers.aer import Aer\n",
    "from qiskit.circuit import ParameterVector\n",
    "from qiskit.circuit.library.data_preparation.state_preparation import StatePreparation\n",
    "\n",
    "from qiskit.opflow import PauliTrotterEvolution\n",
    "from qiskit.opflow import I, X, Y, Z"
   ]
  },
  {
   "cell_type": "code",
   "execution_count": 3,
   "metadata": {},
   "outputs": [],
   "source": [
    "node1=Node([2,2], 5, 1, 1, \"gen1\")\n",
    "node2=Node([1,1], 1, 2, 1, \"gen2\")\n",
    "node3=Node([-1.5,-1], 0,0,0, \"load1\")\n",
    "node4=Node([-1,0], 0,0,0, \"load2\")\n",
    "line1=Line(node1,node3,1,1)\n",
    "line2=Line(node2,node1,1,1)\n",
    "line3=Line(node4,node2,1,1)\n",
    "line4=Line(node4,node3,1,1)\n",
    "\n",
    "problem_instance=UCProblem([line1,line2,line3, line4], [node1,node2,node3,node4], 2)"
   ]
  },
  {
   "cell_type": "code",
   "execution_count": 4,
   "metadata": {},
   "outputs": [
    {
     "data": {
      "text/plain": [
       "array([[ 3., -1.,  0., -1.],\n",
       "       [-1.,  2., -1.,  0.],\n",
       "       [ 0., -1.,  2., -1.],\n",
       "       [-1.,  0., -1.,  2.]])"
      ]
     },
     "execution_count": 4,
     "metadata": {},
     "output_type": "execute_result"
    }
   ],
   "source": [
    "grid=problem_instance.grid_timesteps\n",
    "grid.A"
   ]
  },
  {
   "cell_type": "code",
   "execution_count": 5,
   "metadata": {},
   "outputs": [
    {
     "data": {
      "text/plain": [
       "(0.18644324808654034, 5.0)"
      ]
     },
     "execution_count": 5,
     "metadata": {},
     "output_type": "execute_result"
    }
   ],
   "source": [
    "grid.A_eig_bounds"
   ]
  },
  {
   "cell_type": "code",
   "execution_count": 6,
   "metadata": {},
   "outputs": [
    {
     "name": "stdout",
     "output_type": "stream",
     "text": [
      "[ 2.   1.  -1.  -1.5]\n"
     ]
    }
   ],
   "source": [
    "real_powers=np.array([node.real_power for node in grid.nodes])\n",
    "print(real_powers[:,0])"
   ]
  },
  {
   "cell_type": "code",
   "execution_count": 7,
   "metadata": {},
   "outputs": [
    {
     "name": "stdout",
     "output_type": "stream",
     "text": [
      "Check if HHL circuit already exists\n",
      "'HHL_[ 2.   1.  -1.  -1.5]_[[ 3. -1.  0. -1.]\\n [-1.  2. -1.  0.]\\n [ 0. -1.  2. -1.]\\n [-1.  0. -1.  2.]]_5.0_0.18644324808654034_4_3'\n",
      "Constructing HHL Circuit\n",
      "Initial B: [[ 3. -1.  0. -1.]\n",
      " [-1.  2. -1.  0.]\n",
      " [ 0. -1.  2. -1.]\n",
      " [-1.  0. -1.  2.]]\n",
      "Final B: [[ 3.29472415 -1.09824138  0.         -1.09824138]\n",
      " [-1.09824138  2.19648277 -1.09824138  0.        ]\n",
      " [ 0.         -1.09824138  2.19648277 -1.09824138]\n",
      " [-1.09824138  0.         -1.09824138  2.19648277]]\n",
      "Constructing asin(1/(mx)) circuit\n",
      "Get asin(x^-1) expression\n",
      "\tPower expansion\n"
     ]
    },
    {
     "ename": "KeyboardInterrupt",
     "evalue": "",
     "output_type": "error",
     "traceback": [
      "\u001b[1;31m---------------------------------------------------------------------------\u001b[0m",
      "\u001b[1;31merror\u001b[0m                                     Traceback (most recent call last)",
      "\u001b[1;32mc:\\Python39\\lib\\site-packages\\wexpect\\host.py\u001b[0m in \u001b[0;36mconnect_to_child\u001b[1;34m(self)\u001b[0m\n\u001b[0;32m    875\u001b[0m             \u001b[1;32mtry\u001b[0m\u001b[1;33m:\u001b[0m\u001b[1;33m\u001b[0m\u001b[1;33m\u001b[0m\u001b[0m\n\u001b[1;32m--> 876\u001b[1;33m                 self.pipe = win32file.CreateFile(\n\u001b[0m\u001b[0;32m    877\u001b[0m                     \u001b[0mpipe_full_path\u001b[0m\u001b[1;33m,\u001b[0m\u001b[1;33m\u001b[0m\u001b[1;33m\u001b[0m\u001b[0m\n",
      "\u001b[1;31merror\u001b[0m: (2, 'CreateFile', 'The system cannot find the file specified.')",
      "\nDuring handling of the above exception, another exception occurred:\n",
      "\u001b[1;31mKeyboardInterrupt\u001b[0m                         Traceback (most recent call last)",
      "\u001b[1;32m~\\AppData\\Local\\Temp/ipykernel_21428/4202290973.py\u001b[0m in \u001b[0;36m<module>\u001b[1;34m\u001b[0m\n\u001b[0;32m      5\u001b[0m \u001b[0mhhl_anc\u001b[0m\u001b[1;33m=\u001b[0m\u001b[0mQuantumRegister\u001b[0m\u001b[1;33m(\u001b[0m\u001b[1;36m1\u001b[0m\u001b[1;33m,\u001b[0m\u001b[1;34m\"hhl_anc\"\u001b[0m\u001b[1;33m)\u001b[0m\u001b[1;33m\u001b[0m\u001b[1;33m\u001b[0m\u001b[0m\n\u001b[0;32m      6\u001b[0m \u001b[1;33m\u001b[0m\u001b[0m\n\u001b[1;32m----> 7\u001b[1;33m hhl_circ=[create_hhl_circ(real_powers=real_powers[:,0],\n\u001b[0m\u001b[0;32m      8\u001b[0m                          \u001b[0mB\u001b[0m\u001b[1;33m=\u001b[0m\u001b[0mgrid\u001b[0m\u001b[1;33m.\u001b[0m\u001b[0mA\u001b[0m\u001b[1;33m,\u001b[0m\u001b[1;33m\u001b[0m\u001b[1;33m\u001b[0m\u001b[0m\n\u001b[0;32m      9\u001b[0m                          \u001b[0mmax_eigval\u001b[0m\u001b[1;33m=\u001b[0m\u001b[0mgrid\u001b[0m\u001b[1;33m.\u001b[0m\u001b[0mA_eig_bounds\u001b[0m\u001b[1;33m[\u001b[0m\u001b[1;36m1\u001b[0m\u001b[1;33m]\u001b[0m\u001b[1;33m,\u001b[0m\u001b[1;33m\u001b[0m\u001b[1;33m\u001b[0m\u001b[0m\n",
      "\u001b[1;32mm:\\academics\\Projects\\QARLab\\DCPowerFlow\\UnitCommitment\\QAOA_ansatz.py\u001b[0m in \u001b[0;36mcreate_hhl_circ\u001b[1;34m(real_powers, B, max_eigval, C, gen_nodes, tot_nodes, state_prep_anc, hhl_phase_reg, hhl_anc, num_time_slices)\u001b[0m\n\u001b[0;32m    193\u001b[0m     \u001b[1;31m# Conditioned rotations\u001b[0m\u001b[1;33m\u001b[0m\u001b[1;33m\u001b[0m\u001b[1;33m\u001b[0m\u001b[0m\n\u001b[0;32m    194\u001b[0m \u001b[1;33m\u001b[0m\u001b[0m\n\u001b[1;32m--> 195\u001b[1;33m     \u001b[0mhhl_circ\u001b[0m\u001b[1;33m.\u001b[0m\u001b[0mcompose\u001b[0m\u001b[1;33m(\u001b[0m\u001b[0mconstruct_asin_x_inv_circuit\u001b[0m\u001b[1;33m(\u001b[0m\u001b[0mlen\u001b[0m\u001b[1;33m(\u001b[0m\u001b[0mhhl_phase_reg\u001b[0m\u001b[1;33m)\u001b[0m\u001b[1;33m,\u001b[0m\u001b[1;36m4\u001b[0m\u001b[1;33m,\u001b[0m\u001b[0mC\u001b[0m\u001b[1;33m,\u001b[0m\u001b[0mmax\u001b[0m\u001b[1;33m(\u001b[0m\u001b[1;36m1\u001b[0m\u001b[1;33m/\u001b[0m\u001b[0mC\u001b[0m\u001b[1;33m,\u001b[0m \u001b[0mmax_eigval\u001b[0m\u001b[1;33m)\u001b[0m\u001b[1;33m)\u001b[0m\u001b[1;33m,\u001b[0m \u001b[1;33m[\u001b[0m\u001b[0mq\u001b[0m \u001b[1;32mfor\u001b[0m \u001b[0mq\u001b[0m \u001b[1;32min\u001b[0m \u001b[0mhhl_phase_reg\u001b[0m\u001b[1;33m[\u001b[0m\u001b[1;33m:\u001b[0m\u001b[1;33m:\u001b[0m\u001b[1;33m-\u001b[0m\u001b[1;36m1\u001b[0m\u001b[1;33m]\u001b[0m\u001b[1;33m]\u001b[0m\u001b[1;33m+\u001b[0m\u001b[1;33m[\u001b[0m\u001b[0mhhl_anc\u001b[0m\u001b[1;33m[\u001b[0m\u001b[1;36m0\u001b[0m\u001b[1;33m]\u001b[0m\u001b[1;33m]\u001b[0m\u001b[1;33m,\u001b[0m \u001b[0minplace\u001b[0m\u001b[1;33m=\u001b[0m\u001b[1;32mTrue\u001b[0m\u001b[1;33m)\u001b[0m\u001b[1;33m\u001b[0m\u001b[1;33m\u001b[0m\u001b[0m\n\u001b[0m\u001b[0;32m    196\u001b[0m \u001b[1;33m\u001b[0m\u001b[0m\n\u001b[0;32m    197\u001b[0m     \u001b[1;31m# Uncompute QPE to unentangle the ancillas\u001b[0m\u001b[1;33m\u001b[0m\u001b[1;33m\u001b[0m\u001b[1;33m\u001b[0m\u001b[0m\n",
      "\u001b[1;32mm:\\academics\\Projects\\QARLab\\DCPowerFlow\\UnitCommitment\\taylor_precomputation.py\u001b[0m in \u001b[0;36mconstruct_asin_x_inv_circuit\u001b[1;34m(n, no_terms, c, lambda_max)\u001b[0m\n\u001b[0;32m    158\u001b[0m         \u001b[0masin_x_inv_expression\u001b[0m\u001b[1;33m=\u001b[0m\u001b[0mdata\u001b[0m\u001b[1;33m[\u001b[0m\u001b[0mstr\u001b[0m\u001b[1;33m(\u001b[0m\u001b[0mn\u001b[0m\u001b[1;33m)\u001b[0m\u001b[1;33m+\u001b[0m\u001b[1;34m\"_\"\u001b[0m\u001b[1;33m+\u001b[0m\u001b[0mstr\u001b[0m\u001b[1;33m(\u001b[0m\u001b[0mno_terms\u001b[0m\u001b[1;33m)\u001b[0m\u001b[1;33m+\u001b[0m\u001b[1;34m\"_\"\u001b[0m\u001b[1;33m+\u001b[0m\u001b[0mstr\u001b[0m\u001b[1;33m(\u001b[0m\u001b[0mlambda_max\u001b[0m\u001b[1;33m)\u001b[0m\u001b[1;33m]\u001b[0m\u001b[1;33m[\u001b[0m\u001b[1;34m\"angles\"\u001b[0m\u001b[1;33m]\u001b[0m\u001b[1;33m\u001b[0m\u001b[1;33m\u001b[0m\u001b[0m\n\u001b[0;32m    159\u001b[0m     \u001b[1;32melse\u001b[0m\u001b[1;33m:\u001b[0m\u001b[1;33m\u001b[0m\u001b[1;33m\u001b[0m\u001b[0m\n\u001b[1;32m--> 160\u001b[1;33m         \u001b[0masin_x_inv_expression\u001b[0m\u001b[1;33m=\u001b[0m\u001b[0mget_asin_x_inv_expression\u001b[0m\u001b[1;33m(\u001b[0m\u001b[0mn\u001b[0m\u001b[1;33m,\u001b[0m \u001b[0mno_terms\u001b[0m\u001b[1;33m,\u001b[0m \u001b[0mlambda_max\u001b[0m\u001b[1;33m)\u001b[0m\u001b[1;33m\u001b[0m\u001b[1;33m\u001b[0m\u001b[0m\n\u001b[0m\u001b[0;32m    161\u001b[0m \u001b[1;33m\u001b[0m\u001b[0m\n\u001b[0;32m    162\u001b[0m         \u001b[1;32mwith\u001b[0m \u001b[0mopen\u001b[0m\u001b[1;33m(\u001b[0m\u001b[1;34m'asin_inv_angles.json'\u001b[0m\u001b[1;33m,\u001b[0m \u001b[1;34m'w'\u001b[0m\u001b[1;33m,\u001b[0m \u001b[0mencoding\u001b[0m\u001b[1;33m=\u001b[0m\u001b[1;34m'utf-8'\u001b[0m\u001b[1;33m)\u001b[0m \u001b[1;32mas\u001b[0m \u001b[0mf\u001b[0m\u001b[1;33m:\u001b[0m\u001b[1;33m\u001b[0m\u001b[1;33m\u001b[0m\u001b[0m\n",
      "\u001b[1;32mm:\\academics\\Projects\\QARLab\\DCPowerFlow\\UnitCommitment\\taylor_precomputation.py\u001b[0m in \u001b[0;36mget_asin_x_inv_expression\u001b[1;34m(n, no_terms, x_scale)\u001b[0m\n\u001b[0;32m    122\u001b[0m     \u001b[1;32mfor\u001b[0m \u001b[0mi\u001b[0m \u001b[1;32min\u001b[0m \u001b[0mrange\u001b[0m\u001b[1;33m(\u001b[0m\u001b[0mlen\u001b[0m\u001b[1;33m(\u001b[0m\u001b[0mx_inv_expansion\u001b[0m\u001b[1;33m)\u001b[0m\u001b[1;33m)\u001b[0m\u001b[1;33m:\u001b[0m\u001b[1;33m\u001b[0m\u001b[1;33m\u001b[0m\u001b[0m\n\u001b[0;32m    123\u001b[0m         \u001b[1;32mif\u001b[0m \u001b[0mx_inv_expansion\u001b[0m\u001b[1;33m[\u001b[0m\u001b[0mi\u001b[0m\u001b[1;33m]\u001b[0m\u001b[1;33m!=\u001b[0m\u001b[1;36m0\u001b[0m\u001b[1;33m:\u001b[0m\u001b[1;33m\u001b[0m\u001b[1;33m\u001b[0m\u001b[0m\n\u001b[1;32m--> 124\u001b[1;33m             \u001b[0mx_inv_expression\u001b[0m\u001b[1;33m+=\u001b[0m\u001b[0mx_inv_expansion\u001b[0m\u001b[1;33m[\u001b[0m\u001b[0mi\u001b[0m\u001b[1;33m]\u001b[0m\u001b[1;33m*\u001b[0m\u001b[1;33m(\u001b[0m\u001b[0mpower_expansion\u001b[0m\u001b[1;33m(\u001b[0m\u001b[0mn\u001b[0m\u001b[1;33m,\u001b[0m \u001b[0mx_expansion\u001b[0m\u001b[1;33m,\u001b[0m \u001b[0mi\u001b[0m\u001b[1;33m)\u001b[0m\u001b[1;33m)\u001b[0m\u001b[1;33m\u001b[0m\u001b[1;33m\u001b[0m\u001b[0m\n\u001b[0m\u001b[0;32m    125\u001b[0m     \u001b[1;31m# Plug this expression into the expansion of asin to get the polynomial expression for asin(1/mx)\u001b[0m\u001b[1;33m\u001b[0m\u001b[1;33m\u001b[0m\u001b[1;33m\u001b[0m\u001b[0m\n\u001b[0;32m    126\u001b[0m     \u001b[1;32mfor\u001b[0m \u001b[0mi\u001b[0m \u001b[1;32min\u001b[0m \u001b[0mrange\u001b[0m\u001b[1;33m(\u001b[0m\u001b[0mlen\u001b[0m\u001b[1;33m(\u001b[0m\u001b[0masin_expansion\u001b[0m\u001b[1;33m)\u001b[0m\u001b[1;33m)\u001b[0m\u001b[1;33m:\u001b[0m\u001b[1;33m\u001b[0m\u001b[1;33m\u001b[0m\u001b[0m\n",
      "\u001b[1;32mm:\\academics\\Projects\\QARLab\\DCPowerFlow\\UnitCommitment\\taylor_precomputation.py\u001b[0m in \u001b[0;36mpower_expansion\u001b[1;34m(n, expression, power)\u001b[0m\n\u001b[0;32m     27\u001b[0m \u001b[1;33m\u001b[0m\u001b[0m\n\u001b[0;32m     28\u001b[0m     \u001b[1;31m# Call fortran program via command line to do the computation\u001b[0m\u001b[1;33m\u001b[0m\u001b[1;33m\u001b[0m\u001b[1;33m\u001b[0m\u001b[0m\n\u001b[1;32m---> 29\u001b[1;33m     \u001b[0mchild\u001b[0m \u001b[1;33m=\u001b[0m \u001b[0mwexpect\u001b[0m\u001b[1;33m.\u001b[0m\u001b[0mspawn\u001b[0m\u001b[1;33m(\u001b[0m\u001b[1;34m'cmd.exe'\u001b[0m\u001b[1;33m)\u001b[0m\u001b[1;33m\u001b[0m\u001b[1;33m\u001b[0m\u001b[0m\n\u001b[0m\u001b[0;32m     30\u001b[0m     \u001b[0mchild\u001b[0m\u001b[1;33m.\u001b[0m\u001b[0mexpect\u001b[0m\u001b[1;33m(\u001b[0m\u001b[1;34m'>'\u001b[0m\u001b[1;33m)\u001b[0m\u001b[1;33m\u001b[0m\u001b[1;33m\u001b[0m\u001b[0m\n\u001b[0;32m     31\u001b[0m     \u001b[0minput_line\u001b[0m\u001b[1;33m=\u001b[0m\u001b[1;34m'a.exe '\u001b[0m\u001b[1;33m+\u001b[0m\u001b[0mstr\u001b[0m\u001b[1;33m(\u001b[0m\u001b[0mint\u001b[0m\u001b[1;33m(\u001b[0m\u001b[0mn\u001b[0m\u001b[1;33m)\u001b[0m\u001b[1;33m)\u001b[0m\u001b[1;33m+\u001b[0m\u001b[1;34m' '\u001b[0m\u001b[1;33m+\u001b[0m\u001b[1;34m' '\u001b[0m\u001b[1;33m.\u001b[0m\u001b[0mjoin\u001b[0m\u001b[1;33m(\u001b[0m\u001b[1;33m[\u001b[0m\u001b[0mstr\u001b[0m\u001b[1;33m(\u001b[0m\u001b[1;33m(\u001b[0m\u001b[0mfloat\u001b[0m\u001b[1;33m(\u001b[0m\u001b[0mel\u001b[0m\u001b[1;33m)\u001b[0m\u001b[1;33m)\u001b[0m\u001b[1;33m)\u001b[0m \u001b[1;32mfor\u001b[0m \u001b[0mel\u001b[0m \u001b[1;32min\u001b[0m \u001b[0mexpression\u001b[0m\u001b[1;33m]\u001b[0m\u001b[1;33m)\u001b[0m\u001b[1;33m+\u001b[0m\u001b[1;34m\" \"\u001b[0m\u001b[1;33m+\u001b[0m\u001b[0mstr\u001b[0m\u001b[1;33m(\u001b[0m\u001b[0mint\u001b[0m\u001b[1;33m(\u001b[0m\u001b[0mpower\u001b[0m\u001b[1;33m)\u001b[0m\u001b[1;33m)\u001b[0m\u001b[1;33m\u001b[0m\u001b[1;33m\u001b[0m\u001b[0m\n",
      "\u001b[1;32mc:\\Python39\\lib\\site-packages\\wexpect\\host.py\u001b[0m in \u001b[0;36m__init__\u001b[1;34m(self, command, args, timeout, maxread, searchwindowsize, logfile, cwd, env, codepage, echo, interact, **kwargs)\u001b[0m\n\u001b[0;32m    859\u001b[0m         \u001b[0mself\u001b[0m\u001b[1;33m.\u001b[0m\u001b[0mconsole_class_parameters\u001b[0m \u001b[1;33m=\u001b[0m \u001b[1;33m{\u001b[0m\u001b[1;33m}\u001b[0m\u001b[1;33m\u001b[0m\u001b[1;33m\u001b[0m\u001b[0m\n\u001b[0;32m    860\u001b[0m \u001b[1;33m\u001b[0m\u001b[0m\n\u001b[1;32m--> 861\u001b[1;33m         super().__init__(\n\u001b[0m\u001b[0;32m    862\u001b[0m             \u001b[0mcommand\u001b[0m\u001b[1;33m=\u001b[0m\u001b[0mcommand\u001b[0m\u001b[1;33m,\u001b[0m \u001b[0margs\u001b[0m\u001b[1;33m=\u001b[0m\u001b[0margs\u001b[0m\u001b[1;33m,\u001b[0m \u001b[0mtimeout\u001b[0m\u001b[1;33m=\u001b[0m\u001b[0mtimeout\u001b[0m\u001b[1;33m,\u001b[0m \u001b[0mmaxread\u001b[0m\u001b[1;33m=\u001b[0m\u001b[0mmaxread\u001b[0m\u001b[1;33m,\u001b[0m\u001b[1;33m\u001b[0m\u001b[1;33m\u001b[0m\u001b[0m\n\u001b[0;32m    863\u001b[0m             \u001b[0msearchwindowsize\u001b[0m\u001b[1;33m=\u001b[0m\u001b[0msearchwindowsize\u001b[0m\u001b[1;33m,\u001b[0m \u001b[0mcwd\u001b[0m\u001b[1;33m=\u001b[0m\u001b[0mcwd\u001b[0m\u001b[1;33m,\u001b[0m \u001b[0menv\u001b[0m\u001b[1;33m=\u001b[0m\u001b[0menv\u001b[0m\u001b[1;33m,\u001b[0m \u001b[0mcodepage\u001b[0m\u001b[1;33m=\u001b[0m\u001b[0mcodepage\u001b[0m\u001b[1;33m,\u001b[0m \u001b[0mecho\u001b[0m\u001b[1;33m=\u001b[0m\u001b[0mecho\u001b[0m\u001b[1;33m,\u001b[0m\u001b[1;33m\u001b[0m\u001b[1;33m\u001b[0m\u001b[0m\n",
      "\u001b[1;32mc:\\Python39\\lib\\site-packages\\wexpect\\host.py\u001b[0m in \u001b[0;36m__init__\u001b[1;34m(self, command, args, timeout, maxread, searchwindowsize, logfile, cwd, env, codepage, echo, safe_exit, interact, coverage_console_reader, **kwargs)\u001b[0m\n\u001b[0;32m    245\u001b[0m         \u001b[0mself\u001b[0m\u001b[1;33m.\u001b[0m\u001b[0mget_child_process\u001b[0m\u001b[1;33m(\u001b[0m\u001b[1;33m)\u001b[0m\u001b[1;33m\u001b[0m\u001b[1;33m\u001b[0m\u001b[0m\n\u001b[0;32m    246\u001b[0m         \u001b[0mlogger\u001b[0m\u001b[1;33m.\u001b[0m\u001b[0minfo\u001b[0m\u001b[1;33m(\u001b[0m\u001b[1;34mf'Child pid: {self.child_pid}  Console pid: {self.console_pid}'\u001b[0m\u001b[1;33m)\u001b[0m\u001b[1;33m\u001b[0m\u001b[1;33m\u001b[0m\u001b[0m\n\u001b[1;32m--> 247\u001b[1;33m         \u001b[0mself\u001b[0m\u001b[1;33m.\u001b[0m\u001b[0mconnect_to_child\u001b[0m\u001b[1;33m(\u001b[0m\u001b[1;33m)\u001b[0m\u001b[1;33m\u001b[0m\u001b[1;33m\u001b[0m\u001b[0m\n\u001b[0m\u001b[0;32m    248\u001b[0m \u001b[1;33m\u001b[0m\u001b[0m\n\u001b[0;32m    249\u001b[0m     \u001b[1;32mdef\u001b[0m \u001b[0m__del__\u001b[0m\u001b[1;33m(\u001b[0m\u001b[0mself\u001b[0m\u001b[1;33m)\u001b[0m\u001b[1;33m:\u001b[0m\u001b[1;33m\u001b[0m\u001b[1;33m\u001b[0m\u001b[0m\n",
      "\u001b[1;32mc:\\Python39\\lib\\site-packages\\wexpect\\host.py\u001b[0m in \u001b[0;36mconnect_to_child\u001b[1;34m(self)\u001b[0m\n\u001b[0;32m    892\u001b[0m                 \u001b[1;32mif\u001b[0m \u001b[0me\u001b[0m\u001b[1;33m.\u001b[0m\u001b[0margs\u001b[0m\u001b[1;33m[\u001b[0m\u001b[1;36m0\u001b[0m\u001b[1;33m]\u001b[0m \u001b[1;33m==\u001b[0m \u001b[0mwinerror\u001b[0m\u001b[1;33m.\u001b[0m\u001b[0mERROR_FILE_NOT_FOUND\u001b[0m\u001b[1;33m:\u001b[0m      \u001b[1;31m# 2\u001b[0m\u001b[1;33m\u001b[0m\u001b[1;33m\u001b[0m\u001b[0m\n\u001b[0;32m    893\u001b[0m                     \u001b[0mlogger\u001b[0m\u001b[1;33m.\u001b[0m\u001b[0mdebug\u001b[0m\u001b[1;33m(\u001b[0m\u001b[1;34m\"no pipe, trying again in a bit later\"\u001b[0m\u001b[1;33m)\u001b[0m\u001b[1;33m\u001b[0m\u001b[1;33m\u001b[0m\u001b[0m\n\u001b[1;32m--> 894\u001b[1;33m                     \u001b[0mtime\u001b[0m\u001b[1;33m.\u001b[0m\u001b[0msleep\u001b[0m\u001b[1;33m(\u001b[0m\u001b[1;36m0.2\u001b[0m\u001b[1;33m)\u001b[0m\u001b[1;33m\u001b[0m\u001b[1;33m\u001b[0m\u001b[0m\n\u001b[0m\u001b[0;32m    895\u001b[0m                 \u001b[1;32melse\u001b[0m\u001b[1;33m:\u001b[0m\u001b[1;33m\u001b[0m\u001b[1;33m\u001b[0m\u001b[0m\n\u001b[0;32m    896\u001b[0m                     \u001b[1;32mraise\u001b[0m\u001b[1;33m\u001b[0m\u001b[1;33m\u001b[0m\u001b[0m\n",
      "\u001b[1;31mKeyboardInterrupt\u001b[0m: "
     ]
    }
   ],
   "source": [
    "gen_nodes=QuantumRegister(2,\"gen_nodes\")\n",
    "tot_nodes=QuantumRegister(2,\"tot_nodes\")\n",
    "state_prep_anc=QuantumRegister(1,\"state_prep_anc\")\n",
    "hhl_phase_reg=QuantumRegister(4,\"hhl_phase_reg\")\n",
    "hhl_anc=QuantumRegister(1,\"hhl_anc\")\n",
    "\n",
    "hhl_circ=[create_hhl_circ(real_powers=real_powers[:,0],\n",
    "                         B=grid.A,\n",
    "                         max_eigval=grid.A_eig_bounds[1],\n",
    "                         C=grid.A_eig_bounds[0],\n",
    "                         gen_nodes=gen_nodes,\n",
    "                         tot_nodes=tot_nodes,\n",
    "                         state_prep_anc=state_prep_anc,\n",
    "                         hhl_phase_reg=hhl_phase_reg,\n",
    "                         hhl_anc=hhl_anc)]"
   ]
  },
  {
   "cell_type": "code",
   "execution_count": null,
   "metadata": {},
   "outputs": [],
   "source": [
    "# hhl_output_reg=ClassicalRegister(2, \"hhl_output\")\n",
    "# hhl_circ[0].add_register(hhl_output_reg)\n",
    "# # hhl_circ[0].measure(tot_nodes,hhl_output_reg)"
   ]
  },
  {
   "cell_type": "code",
   "execution_count": null,
   "metadata": {},
   "outputs": [],
   "source": [
    "backend=Aer.get_backend('aer_simulator')\n",
    "hhl_circ[0].save_statevector()\n",
    "hhl_circ[0]=transpile(hhl_circ[0], backend)   \n",
    "result = backend.run(hhl_circ[0]).result()\n",
    "statevector = result.get_statevector(hhl_circ[0])"
   ]
  },
  {
   "cell_type": "code",
   "execution_count": null,
   "metadata": {},
   "outputs": [],
   "source": [
    "# counts\n",
    "# # {'00': 490, '11': 283, '10': 124, '01': 127}\n"
   ]
  },
  {
   "cell_type": "code",
   "execution_count": null,
   "metadata": {},
   "outputs": [
    {
     "name": "stderr",
     "output_type": "stream",
     "text": [
      "C:\\Users\\Dell\\AppData\\Local\\Temp/ipykernel_33084/3448962520.py:1: DeprecationWarning: The return type of saved statevectors has been changed from a `numpy.ndarray` to a `qiskit.quantum_info.Statevector` as of qiskit-aer 0.10. Accessing numpy array attributes is deprecated and will result in an error in a future release. To continue using saved result objects as arrays you can explicitly cast them using  `np.asarray(object)`.\n",
      "  list(statevector)[:2**4]\n"
     ]
    },
    {
     "data": {
      "text/plain": [
       "[(1.1733252601426779e-15-7.093638722529953e-16j),\n",
       " (3.1238120490731777e-32+1.6032844265394164e-32j),\n",
       " (3.1238120490731777e-32+1.6032844265394164e-32j),\n",
       " (2.422002308634285e-49-2.2585817534952472e-48j),\n",
       " (2.351288456437307e-15-6.734635177308739e-16j),\n",
       " (-1.7372275174312124e-31+7.259382625465279e-32j),\n",
       " (-1.7372275174312124e-31+7.259382625465279e-32j),\n",
       " (1.1429597541803188e-47-7.298173540834337e-48j),\n",
       " (-0.24358325729500183+0.243583257295017j),\n",
       " (1.4915172818610517e-17-1.49151728186113e-17j),\n",
       " (1.4915172818610517e-17-1.49151728186113e-17j),\n",
       " (-9.132909325520507e-34+9.132909325521008e-34j),\n",
       " (-0.36537488594250805+0.3653748859425251j),\n",
       " (2.2372759227915947e-17-2.2372759227917066e-17j),\n",
       " (2.2372759227915947e-17-2.2372759227917066e-17j),\n",
       " (-1.3699363988280913e-33+1.3699363988281571e-33j)]"
      ]
     },
     "execution_count": 11,
     "metadata": {},
     "output_type": "execute_result"
    }
   ],
   "source": [
    "list(statevector)[:2**4]"
   ]
  },
  {
   "cell_type": "code",
   "execution_count": null,
   "metadata": {},
   "outputs": [
    {
     "name": "stderr",
     "output_type": "stream",
     "text": [
      "C:\\Users\\Dell\\AppData\\Local\\Temp/ipykernel_33084/247910180.py:1: DeprecationWarning: The return type of saved statevectors has been changed from a `numpy.ndarray` to a `qiskit.quantum_info.Statevector` as of qiskit-aer 0.10. Accessing numpy array attributes is deprecated and will result in an error in a future release. To continue using saved result objects as arrays you can explicitly cast them using  `np.asarray(object)`.\n",
      "  list(statevector)[2**4:2**5]\n"
     ]
    },
    {
     "data": {
      "text/plain": [
       "[(0.4871665145900065-0.48716651459000543j),\n",
       " (-2.983034563722107e-17+2.983034563722117e-17j),\n",
       " (-2.983034563722107e-17+2.983034563722117e-17j),\n",
       " (1.8265818651041047e-33-1.826581865104084e-33j),\n",
       " (0.2435832572950146-0.24358325729501298j),\n",
       " (-1.4915172818611556e-17+1.4915172818611112e-17j),\n",
       " (-1.4915172818611556e-17+1.4915172818611112e-17j),\n",
       " (9.132909325520898e-34-9.132909325520713e-34j),\n",
       " (3.1223219952359198e-15-3.227717756860098e-15j),\n",
       " (-1.3948287500486283e-31+1.6232429428408943e-31j),\n",
       " (-1.3948287500486283e-31+1.6232429428408943e-31j),\n",
       " (1.1277392198338383e-47-1.128949637742376e-47j),\n",
       " (1.8131618488201636e-15-2.0853799341794943e-15j),\n",
       " (-1.1781751920259435e-31+1.2631962650550467e-31j),\n",
       " (-1.1781751920259435e-31+1.2631962650550467e-31j),\n",
       " (6.874682524022374e-48-7.441555789351929e-48j)]"
      ]
     },
     "execution_count": 12,
     "metadata": {},
     "output_type": "execute_result"
    }
   ],
   "source": [
    "list(statevector)[2**4:2**5]"
   ]
  },
  {
   "cell_type": "code",
   "execution_count": null,
   "metadata": {},
   "outputs": [
    {
     "data": {
      "text/plain": [
       "[(1.1733252601426779e-15-7.093638722529953e-16j),\n",
       " (2.351288456437307e-15-6.734635177308739e-16j),\n",
       " (-0.24358325729500183+0.243583257295017j),\n",
       " (-0.36537488594250805+0.3653748859425251j)]"
      ]
     },
     "execution_count": 13,
     "metadata": {},
     "output_type": "execute_result"
    }
   ],
   "source": [
    "[statevector[0],\n",
    "statevector[4],\n",
    "statevector[8],\n",
    "statevector[12]]\n",
    "\n",
    "# array([ 0.5  ,  0.375, -0.75 , -0.875])\n",
    "# [(1.1733252601426779e-15-7.093638722529953e-16j),\n",
    "#  (2.351288456437307e-15-6.734635177308739e-16j),\n",
    "#  (-0.24358325729500183+0.243583257295017j),\n",
    "#  (-0.36537488594250805+0.3653748859425251j)]"
   ]
  },
  {
   "cell_type": "code",
   "execution_count": null,
   "metadata": {},
   "outputs": [
    {
     "data": {
      "text/plain": [
       "array([ 0.5  ,  0.375, -0.75 , -0.875])"
      ]
     },
     "execution_count": 14,
     "metadata": {},
     "output_type": "execute_result"
    }
   ],
   "source": [
    "A_inv=np.linalg.inv(grid.A)\n",
    "A_inv @ real_powers[:,0]"
   ]
  }
 ],
 "metadata": {
  "kernelspec": {
   "display_name": "Python 3",
   "language": "python",
   "name": "python3"
  },
  "language_info": {
   "codemirror_mode": {
    "name": "ipython",
    "version": 3
   },
   "file_extension": ".py",
   "mimetype": "text/x-python",
   "name": "python",
   "nbconvert_exporter": "python",
   "pygments_lexer": "ipython3",
   "version": "3.9.4"
  },
  "orig_nbformat": 4
 },
 "nbformat": 4,
 "nbformat_minor": 2
}
