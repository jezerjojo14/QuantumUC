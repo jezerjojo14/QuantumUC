{
 "cells": [
  {
   "cell_type": "code",
   "execution_count": 5,
   "id": "cd552668",
   "metadata": {},
   "outputs": [],
   "source": [
    "import numpy as np\n",
    "import math\n",
    "class Node:\n",
    "    def __init__(self, A, B, C,fuel_cost, pMin, pMax, on_cost , off_cost , label):\n",
    "\n",
    "        self.A=A\n",
    "        self.B = B\n",
    "        self.C = C\n",
    "        self.fuel_cost = fuel_cost\n",
    "        self.pMax= pMax\n",
    "        self.pMin = pMin\n",
    "        self.on_cost = on_cost\n",
    "        self.off_cost = off_cost\n",
    "        self.flapc = self.FLAPC()\n",
    "        self.label = label\n",
    "        self.active_power = 0\n",
    "        self.active_cost = 0\n",
    "    def get_active_cost(self,power):\n",
    "        return (self.fuel_cost * (self.A + self.B * power+ self.C* power * power) + self.on_cost + self.off_cost)\n",
    "    def FLAPC (self):\n",
    "        # FLAPC = fuel_cost * (A+BPmax+cPmax^2)/Pmax\n",
    "        return self.get_active_cost(self.pMax)/self.pMax\n",
    "    def reset(self):\n",
    "        self.active_power = 0\n",
    "        self.active_cost = 0"
   ]
  },
  {
   "cell_type": "code",
   "execution_count": 2,
   "id": "e897ad6f",
   "metadata": {},
   "outputs": [],
   "source": [
    "def find_feasible_combination(nodes , load):\n",
    "    nodes.sort(key=lambda node:node.flapc)\n",
    "    feasible_nodes = []\n",
    "    new_load  = load\n",
    "    for node in nodes:\n",
    "        if new_load <= 0:\n",
    "            return feasible_nodes\n",
    "        new_load -= node.pMax\n",
    "        feasible_nodes.append(node)\n",
    "    return feasible_nodes\n",
    "\n",
    "def get_lambda(nodes , load):\n",
    "    num =0\n",
    "    denom = 0\n",
    "    if len(nodes) == 0:\n",
    "        return 0\n",
    "    for node in nodes:\n",
    "        num += node.B/(2.0 *node.C)\n",
    "        denom += 1.0/(2.0*node.C)\n",
    "        #print(num, denom)\n",
    "    return ((load + num) /denom)"
   ]
  },
  {
   "cell_type": "code",
   "execution_count": 3,
   "id": "34b3fbe7",
   "metadata": {},
   "outputs": [],
   "source": [
    "def get_power(nodes , load):\n",
    "    num = 0\n",
    "    denom = 0\n",
    "    #for load in loads:\n",
    "    feasible_nodes = find_feasible_combination(nodes , load)\n",
    "    if(len(feasible_nodes)):\n",
    "        lambda1 = get_lambda(feasible_nodes , load)\n",
    "        newLoad = load\n",
    "        for node in feasible_nodes:\n",
    "            if newLoad <= 0.0:\n",
    "                break\n",
    "            power = (lambda1 - node.B)/(2.0*node.C)\n",
    "            if(power > node.pMax):\n",
    "                power = node.pMax\n",
    "                node.active_power= power\n",
    "                lambda1 = get_lambda( [node for node in feasible_nodes if node.active_power <= 0] ,\n",
    "                                     (newLoad - power))\n",
    "            newLoad -= power\n",
    "            node.active_cost = node.get_active_cost(power)\n",
    "            if node.active_power<= 0:\n",
    "                node.active_power= power\n",
    "        print(\"\\n Load :\" , load , \n",
    "          \"\\n nodes \" ,[node.label for node in feasible_nodes] ,\" are used.\", \n",
    "          \"\\n node active power :\"  , [node.active_power for node in feasible_nodes] ,\n",
    "          \"\\n Total generated power:\", sum([node.active_power for node in feasible_nodes]),\n",
    "          \"\\n node active cost:\", [node.active_cost for node in feasible_nodes],\n",
    "          \"\\n Total cost:\",sum([node.get_active_cost(node.active_power) for node in feasible_nodes]))\n",
    "        for node in feasible_nodes:\n",
    "            node.reset()"
   ]
  },
  {
   "cell_type": "code",
   "execution_count": 4,
   "id": "53e593eb",
   "metadata": {
    "scrolled": true
   },
   "outputs": [
    {
     "name": "stdout",
     "output_type": "stream",
     "text": [
      "\n",
      " Load : 1600.0 \n",
      " nodes  ['node3', 'node2', 'node1']  are used. \n",
      " node active power : [200, 400, 600] \n",
      " Total generated power: 1200 \n",
      " node active cost: [3364826.0, 12804052.0, 39616535.0] \n",
      " Total cost: 55785413.0\n",
      "\n",
      " Load : 700.0 \n",
      " nodes  ['node3', 'node2', 'node1']  are used. \n",
      " node active power : [200, 277.81944444444446, 222.18055555555554] \n",
      " Total generated power: 700.0 \n",
      " node active cost: [3364826.0, 6177521.691358024, 5436206.8846450625] \n",
      " Total cost: 14978554.576003086\n"
     ]
    }
   ],
   "source": [
    "node1 = Node(A=30 , B=25 ,C=100,fuel_cost = 1.1, pMin=150 , pMax= 600 ,on_cost=1, off_cost=1, label = \"node1\")\n",
    "node2 = Node(A=50 , B=10 ,C=80,fuel_cost = 1.0, pMin=100 , pMax= 400 ,on_cost=1, off_cost=1, label = \"node2\")\n",
    "node3 = Node(A=20 , B=20 ,C=70,fuel_cost = 1.2, pMin=50 , pMax= 200 ,on_cost=1, off_cost=1, label = \"node3\")\n",
    "\n",
    "loads =[[700.0 , 900.0],[200.0 , 500.0]]\n",
    "nodes = [node1 , node2 , node3]\n",
    "\n",
    "for load in loads:\n",
    "    get_power(nodes ,sum(load))"
   ]
  },
  {
   "cell_type": "code",
   "execution_count": null,
   "id": "39a6d617",
   "metadata": {},
   "outputs": [],
   "source": []
  }
 ],
 "metadata": {
  "kernelspec": {
   "display_name": "Python 3 (ipykernel)",
   "language": "python",
   "name": "python3"
  },
  "language_info": {
   "codemirror_mode": {
    "name": "ipython",
    "version": 3
   },
   "file_extension": ".py",
   "mimetype": "text/x-python",
   "name": "python",
   "nbconvert_exporter": "python",
   "pygments_lexer": "ipython3",
   "version": "3.10.4"
  }
 },
 "nbformat": 4,
 "nbformat_minor": 5
}
