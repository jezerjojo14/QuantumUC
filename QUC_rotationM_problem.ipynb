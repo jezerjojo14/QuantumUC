{
 "cells": [
  {
   "cell_type": "code",
   "execution_count": 1,
   "id": "80604175",
   "metadata": {},
   "outputs": [],
   "source": [
    "import networkx as nx\n",
    "import matplotlib.pyplot as plt\n",
    "import networkx as nx\n",
    "import matplotlib.pyplot as plt\n",
    "import random\n",
    "from itertools import combinations, groupby\n",
    "from scipy.optimize import minimize\n",
    "from qiskit import Aer\n",
    "from qiskit.algorithms.optimizers import COBYLA\n",
    "from qiskit.visualization import plot_histogram\n",
    "from scipy.optimize import minimize\n",
    "from qiskit.circuit import Gate\n",
    "from qiskit import QuantumCircuit , QuantumRegister\n",
    "from qiskit.tools.visualization import circuit_drawer\n",
    "from qiskit.circuit import Parameter\n",
    "import numpy as np"
   ]
  },
  {
   "cell_type": "code",
   "execution_count": null,
   "id": "ef2b538a",
   "metadata": {},
   "outputs": [],
   "source": []
  },
  {
   "cell_type": "markdown",
   "id": "425d3d73",
   "metadata": {},
   "source": [
    "# Unit commitment Problem \n",
    "\n",
    "Unit commitment(UC) problem is a fundamental nonlinear non-convex NP-hard optimization problem which makes finding optimal solution difficult. The problem is usually modeled as a mixed-integer programming. The objective of UC problem is to achieve a common target given a set of generating units  subject to  a set of constraints.\n",
    "\n",
    "The importance of the problem is reflected on the large different approaches suggested to solve the problem which requires fast decisions. Quantum computers may provide and advantage in this case.\n",
    "\n",
    "\n",
    "## Problem Statement\n",
    "\n",
    "The problem of Unit Commitment deals with what generators should be turned on/off and when depending on the demand so as to minimize costs.\n",
    "\n",
    " The main setup is as follows. We have a power grid with various power generation units(nodes) that are connected by transmission lines. For simplicity, we assume that we have a set of nodes with one load. The transmission costs is identical(we set the edge weight to unitary). To simplify the problem even furhter, we only consider one time step. Each node has a set of physical characterisctis: \n",
    " \n",
    " A: fixed cost of the unit when it is turned on regardless of the power level.\n",
    " \n",
    " B: linear cost based on the power level.\n",
    " \n",
    " C: quandratic cost based on the power level.\n",
    " \n",
    " Total cost per unit: $C(P) = A + B*P + C* P^2$ where $P$ is the allocatated power to the unit. Classical methods are used to find this parameter like economic dispatch.  The total cost is  the sum of the costs of the units that are on.\n",
    "\n",
    " \n",
    " \n",
    " $P_{min}$: minimum generation limit.\n",
    " \n",
    " $P_{max}$: maximum generation limit.\n",
    " \n",
    "There are many other operational parameters that can be added easily. For simplicity, we consider these. Fig. 1 demonstrates two ways that the load of a 4-unit system could be met while keeping within each unit’s\n",
    "constraints, and gives the cost of each configuration [[1]](https://arxiv.org/abs/2110.12624).\n",
    "\n",
    "\n",
    "![alt text](./images/uc.jpg \"ref[]\")\n",
    "\n",
    "\n",
    "\n",
    "Thus the  variant we are dealing with can be formulated as the following binary problem:\n",
    "\n",
    "$$\n",
    "\\begin{aligned}\n",
    " min & \\sum_{i=1}^{n} y_i C_i(P) = \\sum_{i=1}^{n}(y_i(A_i + B_i*P_i + C_i* P_{i}^{2}))\\\\\n",
    "  \\text{subject to} & \\\\\n",
    "&\\sum_{i=1}^{n} P_i = L \\\\\n",
    "& P_{min,i}  \\leq P_i y_i \\leq P_{max,i}\\\\\n",
    "\\end{aligned}\n",
    "$$\n",
    "\n",
    "Here, $y_i$ is a binary variable representing the state of the i-th generator ; 1 if on, 0 if\n",
    "off. $A_i,B_i , C_i$ are constants ,  $P_i  \\in \\mathbb{R}$. $L$ is the load.\n",
    "\n",
    "Following [[1]](https://arxiv.org/abs/2110.12624), we convert the constrained equation above into unconstrained one adding some penalty terms:\n",
    "\n",
    "\n",
    "$$\n",
    "\\begin{aligned}\n",
    " min & \\sum_{i=1}^{n} y_i C_i(P) = \\sum_{i=1}^{n}((A_i*y_i + B_i*P_i + C_i* P_{i}^{2}))\\\\\n",
    "  \\text{subject to} & \\\\\n",
    "&\\sum_{i=1}^{n} \\lambda_1 * y_i(P_i -L )^{2} \\\\\n",
    "&  \\lambda_2 * (P_i -  s_{1,i} -  P_{min,i}*y_i)^{2} \\\\\n",
    "&  \\lambda_3 * (P_i +  s_{2,i} -  P_{max,i}*y_i)^{2} \\\\\n",
    "\\end{aligned}\n",
    "$$\n",
    "\n",
    "where $\\lambda_1 , \\lambda_2 , \\lambda_3$ are some empirical constant , $s_{1,i} ,s_{2,i}$ are some penalty terms found by some classical optimizer.\n",
    "\n",
    "Thus, our problem is to find the allocated power $p_i$ on each unit (at a certain time) such that the constraints above are satisfied. We use QAOA to determine whether the generating unit is on/off and the classicat optimizer to find the allocated power $p_i$. The classical optimizer is also used to estimate the $\\gamma , \\beta , s_1$ and $s_2$ values. The classical optimizer we use is the  SciPy’s optimize\n",
    "package with  Nelder-Mead method.\n",
    "\n",
    "\n",
    "## Algorithm overview\n",
    "\n",
    "We use QAOA to handle the problem of whether the unit is one or off and classical optimzer to handle the continuous variables $\\gamma_{j}$ , $\\beta_{j}$ and $P_{i}$ for $j = 1,2,...,p$ , for $i = 1,2,...,n$ where $n$ is the number of generating units and $p$ is the depth of the circuit. Our main task then would be to construct the cost layer( problem Hamiltonian ). For mixing Hamiltonian,  We will just use the default mixer layer with $R_X$ gates.\n",
    "\n",
    "Let the input bitstring represent $y$. The i-th qubit  will represent whether the i-th generator is on (|1⟩) or off (|0⟩). The function of a cost layer  is to take this input state and add a phase to it, with the phase angle being the cost of the input state times some $\\gamma_{i}$.\n",
    "\n",
    "We need convert  binary variables $y_i \\in \\{0, 1\\}$ to $z_i \\in \\{+1, −1\\}$  by using the transformation $z_i = 2y_i − 1$ to comply with the standard form for QUBOs solved by QAOA.\n",
    "\n",
    "[These Cost and Mixing Hamiltonian steps are repeated $P$ times before terminating measurements on each qubit.]\n",
    "\n",
    "The problem Hamiltonian specific to the above problem is:\n",
    "\n",
    "$$\n",
    "\\begin{aligned}\n",
    "H_p & = TODO \\\\\n",
    "U(H_p) &= e^{-i\\gamma H_p} = TODO\n",
    "\\end{aligned}\n",
    "$$"
   ]
  },
  {
   "cell_type": "code",
   "execution_count": 3,
   "id": "49462c9d",
   "metadata": {},
   "outputs": [],
   "source": [
    "\n",
    "class Node:\n",
    "\n",
    "    def __init__(self, A, B, C, minCapacity , maxCapacity):\n",
    "        self.A = A\n",
    "        self.B = B\n",
    "        self.C = C\n",
    "        self.minCapacity = minCapacity\n",
    "        self.maxCapacity = maxCapacity\n",
    "        \n",
    "    def cost(self , p):\n",
    "        assert p >= self.minCapacity , \"power should be greater than minimum power\"\n",
    "        assert p <= self.maxCapacity, \"power should be smaller than maximum power\"\n",
    "        \n",
    "        return (self.A + self.B*p + self.C * p**2)\n",
    "    \n",
    "\n",
    "nodes  = []\n",
    "### using the  example above\n",
    "nodes.append(Node(30,25,100 , 100 , 300))\n",
    "nodes.append(Node(50,10,80  , 100 , 300))\n",
    "nodes.append(Node(20,30,120 , 500 , 900))\n",
    "nodes.append(Node(20,20,70  , 0 , 900))\n",
    "random.seed(1)\n",
    "\n",
    "nqubits = len(nodes)\n",
    "\n",
    "\n",
    "#G.add_nodes_from([i for i in range(nqubits)])\n",
    "\n",
    "### initial power values\n",
    "weights_nodes = []\n",
    "\n",
    "G = nx.Graph()\n",
    "\n",
    "for nn in range(0,len(nodes)):\n",
    "    #weights_nodes.append( -1.0 *nodes[nn].cost(power[nn])) ## node weights are -1 \n",
    "    weights_nodes.append( -1.0 ) ## node weights are the \n",
    "    G.add_nodes_from([(nn,{'weight':  weights_nodes[nn]})])\n",
    "    for nn2 in range(0,len(nodes)):\n",
    "         G.add_edges_from([(nn, nn2,{'weight': 0})])  ### weights are zero since there is no transmission cost???\n",
    "    \n",
    "#weights_edges = [1,1,1,1]\n",
    "\n",
    "#edges = combinations(range(len(nodes)), 2)\n",
    "#iter=0\n",
    "#for _, node_edges in groupby(edges, key=lambda x: x[0]):\n",
    "#    node_edges = list(node_edges)\n",
    "#    random_edge = random.choice(node_edges)\n",
    "#    G.add_edges_from([(random_edge[0], random_edge[1],{'weight': weights_edges[iter]})])\n",
    "#    iter += 1\n",
    "\n",
    "#    for e in node_edges:\n",
    "#        if random.random() < 0.4:\n",
    "#            G.add_edges_from([(e[0], e[1],{'weight': weights_edges[iter]})])\n",
    "#            iter += 1\n",
    "\n",
    "#plt.figure(figsize=(8,5))\n",
    "#nx.draw(G, node_color='lightblue',with_labels=True, node_size=500)\n"
   ]
  },
  {
   "cell_type": "markdown",
   "id": "a67fea6b",
   "metadata": {},
   "source": [
    "### The Initial State\n",
    "\n",
    "We use the default initial state of the QAOA\n",
    "\n",
    "$$\\lvert \\psi_0 \\rangle = \\bigg(\\frac{1}{\\sqrt{2}}\\big(\\lvert 0 \\rangle + \\lvert 1 \\rangle\\big)\\bigg)^{\\otimes n}$$\n"
   ]
  },
  {
   "cell_type": "code",
   "execution_count": 4,
   "id": "ba0bac46",
   "metadata": {},
   "outputs": [
    {
     "data": {
      "image/png": "[encoded data removed]",
      "text/plain": [
       "<Figure size 146.797x264.88 with 1 Axes>"
      ]
     },
     "execution_count": 4,
     "metadata": {},
     "output_type": "execute_result"
    }
   ],
   "source": [
    "qc_0 = QuantumCircuit(nqubits)\n",
    "for i in range(0, nqubits):\n",
    "    qc_0.h(i)\n",
    "    \n",
    "qc_0.draw(\"mpl\")"
   ]
  },
  {
   "cell_type": "markdown",
   "id": "d4be1843",
   "metadata": {},
   "source": [
    "### The Mixing Unitary"
   ]
  },
  {
   "cell_type": "code",
   "execution_count": 5,
   "id": "ab0ad136",
   "metadata": {
    "scrolled": true
   },
   "outputs": [
    {
     "data": {
      "image/png": "[encoded data removed]",
      "text/plain": [
       "<Figure size 146.797x264.88 with 1 Axes>"
      ]
     },
     "execution_count": 5,
     "metadata": {},
     "output_type": "execute_result"
    }
   ],
   "source": [
    "\n",
    "\n",
    "beta = Parameter(\"$\\\\beta$\")\n",
    "qc_mix = QuantumCircuit(nqubits)\n",
    "for i in range(0, nqubits):\n",
    "    qc_mix.rx(2 * beta, i)\n",
    "    \n",
    "qc_mix.draw(\"mpl\")"
   ]
  },
  {
   "cell_type": "markdown",
   "id": "b507c2b9",
   "metadata": {},
   "source": [
    "### The Problem Unitary"
   ]
  },
  {
   "cell_type": "code",
   "execution_count": 6,
   "id": "523837f4",
   "metadata": {
    "scrolled": true
   },
   "outputs": [
    {
     "data": {
      "image/png": "[encoded data removed]",
      "text/plain": [
       "<Figure size 688.597x264.88 with 1 Axes>"
      ]
     },
     "execution_count": 6,
     "metadata": {},
     "output_type": "execute_result"
    }
   ],
   "source": [
    "    ## all this represent cost layer\n",
    "gamma = Parameter(\"$ 2* \\\\gamma$\")\n",
    "qc_p = QuantumCircuit(nqubits)\n",
    "qr = QuantumRegister(nqubits, 'q')\n",
    "\n",
    "Cp = Gate(name=\"$U_{Cp}$\", num_qubits=4, params=[gamma])\n",
    "CL = Gate(name=\"$U_{CL}$\", num_qubits=4, params=[gamma])\n",
    "Cmin = Gate(name=\"$U_{Cmin}$\", num_qubits=4, params=[gamma])\n",
    "Cmax = Gate(name=\"$U_{Cmax}$\", num_qubits=4, params=[gamma])\n",
    "\n",
    "qc_p.append(Cp , qr)\n",
    "qc_p.barrier()\n",
    "\n",
    "qc_p.append(CL , qr)\n",
    "qc_p.barrier()\n",
    "\n",
    "qc_p.append(Cmin , qr)\n",
    "qc_p.barrier()\n",
    "\n",
    "qc_p.append(Cmax , qr)\n",
    "qc_p.barrier()\n",
    "\n",
    "qc_p.draw(\"mpl\")"
   ]
  },
  {
   "cell_type": "markdown",
   "id": "487875a2",
   "metadata": {},
   "source": [
    "where $Cp$ corresponds to the first term of the cost function above, $CL$ , $Cmin$ and $Cmax$ correspond to the following constraints. "
   ]
  },
  {
   "cell_type": "code",
   "execution_count": 7,
   "id": "2498dcd9",
   "metadata": {},
   "outputs": [
    {
     "data": {
      "image/png": "[encoded data removed]",
      "text/plain": [
       "<Figure size 1049.8x264.88 with 1 Axes>"
      ]
     },
     "execution_count": 7,
     "metadata": {},
     "output_type": "execute_result"
    }
   ],
   "source": [
    "## A brute-Force circuit :)\n",
    "\n",
    "qr = QuantumRegister(nqubits, 'q')\n",
    "qc_p = QuantumCircuit(qr)\n",
    "\n",
    "# Add the first cost circuit\n",
    "gammacp1 = Parameter(\"$  \\\\gamma_1 (A_1 + B_1*P_1 + C_1* P_{1}^{2})$\")\n",
    "qc_p.rz(2 * gammacp1, qr[0])\n",
    "\n",
    "gammacp2 = Parameter(\"$  \\\\gamma_1 (A_2 + B_1*P_2 + C_2* P_{2}^{2})$\")\n",
    "qc_p.rz(2 * gammacp2, qr[1])\n",
    "\n",
    "gammacp3 = Parameter(\"$  \\\\gamma_1 (A_3 + B_1*P_1 + C_1* P_{3}^{2})$\")\n",
    "qc_p.rz(2 * gammacp3, qr[2])\n",
    "\n",
    "gammacp4 = Parameter(\"$  \\\\gamma_1 (A_4 + B_1*P_1 + C_4* P_{4}^{2})$\")\n",
    "qc_p.rz(2 * gammacp4, qr[3])\n",
    "\n",
    "qc_p.barrier()\n",
    "# Add the second cost circuit\n",
    "\n",
    "gammacl1 = Parameter(\"$  \\\\gamma_1 \\\\lambda_1(P_1 - L)^{2}$\")\n",
    "qc_p.rz(2 * gammacl1, qr[0])\n",
    "\n",
    "gammacl2 = Parameter(\"$  \\\\gamma_1 \\\\lambda_1(P_2 - L)^{2}$\")\n",
    "qc_p.rz(2 * gammacl2, qr[1])\n",
    "\n",
    "gammacl3 = Parameter(\"$  \\\\gamma_1 \\\\lambda_1(P_3 - L)^{2}$\")\n",
    "qc_p.rz(2 * gammacl3, qr[2])\n",
    "\n",
    "gammacl4 = Parameter(\"$  \\\\gamma_1 \\\\lambda_1(P_4 - L)^{2}$\")\n",
    "qc_p.rz(2 * gammacl4, qr[3])\n",
    "\n",
    "qc_p.barrier()\n",
    "# Add the third cost circuit\n",
    "gammacmin1 = Parameter(\"$  \\\\gamma_1 \\\\lambda_2(P_1 - s_{1,1} - p_{min,1})^{2} $\")\n",
    "qc_p.rz(2 * gammacmin1, qr[0])\n",
    "\n",
    "gammacmin2 = Parameter(\"$   \\\\gamma_1 \\\\lambda_2(P_2 - s_{1,2} - p_{min,2})^{2} $\")\n",
    "qc_p.rz(2 * gammacmin2, qr[1])\n",
    "\n",
    "gammacmin3 = Parameter(\"$  \\\\gamma_1 \\\\lambda_2(P_3 - s_{1,3} - p_{min,3})^{2} $\")\n",
    "qc_p.rz(2 * gammacmin3, qr[2])\n",
    "\n",
    "gammacmin4 = Parameter(\"$  \\\\gamma_1 \\\\lambda_2(P_4 - s_{1,4} - p_{min,4})^{2} $\")\n",
    "qc_p.rz(2 * gammacmin4, qr[3])\n",
    "\n",
    "qc_p.barrier()\n",
    "# Add the fourth cost circuit\n",
    "\n",
    "gammacmax1 = Parameter(\"$  \\\\gamma_1 \\\\lambda_3(P_1 + s_{1,1} - p_{max,1})^{2} $\")\n",
    "qc_p.rz(2 * gammacmax1, qr[0])\n",
    "\n",
    "gammacmax2 = Parameter(\"$  \\\\gamma_1 \\\\lambda_3(P_1 + s_{1,2} - p_{max,2})^{2} $\")\n",
    "qc_p.rz(2 * gammacmax2, qr[1])\n",
    "\n",
    "gammacmax3 = Parameter(\"$  \\\\gamma_1 \\\\lambda_3(P_1 + s_{1,3} - p_{max,3})^{2} $\")\n",
    "qc_p.rz(2 * gammacmax3, qr[2])\n",
    "\n",
    "gammacmax4 = Parameter(\"$  \\\\gamma_1 \\\\lambda_3(P_1 + s_{1,4} - p_{max,4})^{2} $\")\n",
    "qc_p.rz(2 * gammacmax4, qr[3])\n",
    "qc_p.barrier()\n",
    "qc_p.barrier()\n",
    "\n",
    "\n",
    "qc_p.draw(\"mpl\")"
   ]
  },
  {
   "cell_type": "markdown",
   "id": "ac62ed2e",
   "metadata": {},
   "source": [
    "## Putting it all together\n"
   ]
  },
  {
   "cell_type": "code",
   "execution_count": 8,
   "id": "2be4b11c",
   "metadata": {},
   "outputs": [
    {
     "data": {
      "image/png": "[encoded data removed]",
      "text/plain": [
       "<Figure size 1170.2x264.88 with 1 Axes>"
      ]
     },
     "execution_count": 8,
     "metadata": {},
     "output_type": "execute_result"
    }
   ],
   "source": [
    "qc_qaoa = QuantumCircuit(nqubits)\n",
    "\n",
    "qc_qaoa.append(qc_0, [i for i in range(0, nqubits)])\n",
    "qc_qaoa.append(qc_p, [i for i in range(0, nqubits)])\n",
    "qc_qaoa.append(qc_mix, [i for i in range(0, nqubits)])\n",
    "\n",
    "qc_qaoa.decompose().draw(\"mpl\")"
   ]
  },
  {
   "cell_type": "markdown",
   "id": "0f415741",
   "metadata": {},
   "source": [
    "Or in more detail"
   ]
  },
  {
   "cell_type": "code",
   "execution_count": 9,
   "id": "e1a4f9b1",
   "metadata": {},
   "outputs": [
    {
     "data": {
      "image/png": "[encoded data removed]",
      "text/plain": [
       "<Figure size 1561.68x325.08 with 1 Axes>"
      ]
     },
     "execution_count": 9,
     "metadata": {},
     "output_type": "execute_result"
    }
   ],
   "source": [
    "## A brute-Force circuit :)\n",
    "\n",
    "qr = QuantumRegister(nqubits, 'q')\n",
    "qc_p = QuantumCircuit(qr)\n",
    "\n",
    "for i in range(0, nqubits):\n",
    "    qc_p.h(i)\n",
    "\n",
    "\n",
    "qc_p.barrier()\n",
    "\n",
    "# Add the first cost circuit\n",
    "gammacp1 = Parameter(\"$  \\\\gamma_1 (A_1 + B_1*P_1 + C_1* P_{1}^{2})$\")\n",
    "qc_p.rz(2 * gammacp1, qr[0])\n",
    "\n",
    "gammacp2 = Parameter(\"$  \\\\gamma_1 (A_2 + B_2*P_2 + C_2* P_{2}^{2})$\")\n",
    "qc_p.rz(2 * gammacp2, qr[1])\n",
    "\n",
    "gammacp3 = Parameter(\"$  \\\\gamma_1 (A_3 + B_3*P_1 + C_1* P_{3}^{2})$\")\n",
    "qc_p.rz(2 * gammacp3, qr[2])\n",
    "\n",
    "gammacp4 = Parameter(\"$  \\\\gamma_1 (A_4 + B_4*P_1 + C_4* P_{4}^{2})$\")\n",
    "qc_p.rz(2 * gammacp4, qr[3])\n",
    "\n",
    "qc_p.barrier()\n",
    "# Add the second cost circuit\n",
    "\n",
    "gammacl1 = Parameter(\"$  \\\\gamma_1 \\\\lambda_1(P_1 - L)^{2}$\")\n",
    "qc_p.rz(2 * gammacl1, qr[0])\n",
    "\n",
    "gammacl2 = Parameter(\"$  \\\\gamma_1 \\\\lambda_1(P_2 - L)^{2}$\")\n",
    "qc_p.rz(2 * gammacl2, qr[1])\n",
    "\n",
    "gammacl3 = Parameter(\"$  \\\\gamma_1 \\\\lambda_1(P_3 - L)^{2}$\")\n",
    "qc_p.rz(2 * gammacl3, qr[2])\n",
    "\n",
    "gammacl4 = Parameter(\"$  \\\\gamma_1 \\\\lambda_1(P_4 - L)^{2}$\")\n",
    "qc_p.rz(2 * gammacl4, qr[3])\n",
    "\n",
    "qc_p.barrier()\n",
    "# Add the third cost circuit\n",
    "gammacmin1 = Parameter(\"$  \\\\gamma_1 \\\\lambda_2(P_1 - s_{1,1} - p_{min,1})^{2} $\")\n",
    "qc_p.rz(2 * gammacmin1, qr[0])\n",
    "\n",
    "gammacmin2 = Parameter(\"$   \\\\gamma_1 \\\\lambda_2(P_2 - s_{1,2} - p_{min,2})^{2} $\")\n",
    "qc_p.rz(2 * gammacmin2, qr[1])\n",
    "\n",
    "gammacmin3 = Parameter(\"$  \\\\gamma_1 \\\\lambda_2(P_3 - s_{1,3} - p_{min,3})^{2} $\")\n",
    "qc_p.rz(2 * gammacmin3, qr[2])\n",
    "\n",
    "gammacmin4 = Parameter(\"$  \\\\gamma_1 \\\\lambda_2(P_4 - s_{1,4} - p_{min,4})^{2} $\")\n",
    "qc_p.rz(2 * gammacmin4, qr[3])\n",
    "\n",
    "qc_p.barrier()\n",
    "# Add the fourth cost circuit\n",
    "\n",
    "gammacmax1 = Parameter(\"$  \\\\gamma_1 \\\\lambda_3(P_1 + s_{2,1} - p_{max,1})^{2} $\")\n",
    "qc_p.rz(2 * gammacmax1, qr[0])\n",
    "\n",
    "gammacmax2 = Parameter(\"$  \\\\gamma_1 \\\\lambda_3(P_1 + s_{2,2} - p_{max,2})^{2} $\")\n",
    "qc_p.rz(2 * gammacmax2, qr[1])\n",
    "\n",
    "gammacmax3 = Parameter(\"$  \\\\gamma_1 \\\\lambda_3(P_1 + s_{2,3} - p_{max,3})^{2} $\")\n",
    "qc_p.rz(2 * gammacmax3, qr[2])\n",
    "\n",
    "gammacmax4 = Parameter(\"$  \\\\gamma_1 \\\\lambda_3(P_1 + s_{2,4} - p_{max,4})^{2} $\")\n",
    "qc_p.rz(2 * gammacmax4, qr[3])\n",
    "\n",
    "qc_p.barrier()\n",
    "\n",
    "# Add the first mixer layer\n",
    "\n",
    "beta1 = Parameter(\"$\\\\beta_1$\")\n",
    "\n",
    "\n",
    "qc_p.rx(2 *beta1, qr)\n",
    "\n",
    "\n",
    "qc_p.measure_all()\n",
    "\n",
    "qc_p.barrier()\n",
    "\n",
    "\n",
    "qc_p.draw(\"mpl\")"
   ]
  },
  {
   "cell_type": "code",
   "execution_count": null,
   "id": "8a50a0a0",
   "metadata": {},
   "outputs": [],
   "source": []
  },
  {
   "cell_type": "markdown",
   "id": "c7718da2",
   "metadata": {},
   "source": [
    "# QAOA Implementation"
   ]
  },
  {
   "cell_type": "code",
   "execution_count": 10,
   "id": "478301be",
   "metadata": {},
   "outputs": [],
   "source": [
    "class QUCProblem:\n",
    "    \n",
    "    def __init__(self , nodes , lambda1 ,  lambda2 , lambda3, load=1000 ,p=1):\n",
    "        \n",
    "        self.nodes = nodes\n",
    "        self.load = load\n",
    "        self.lambda1 = lambda1\n",
    "        self.lambda2 = lambda2\n",
    "        self.lambda3 = lambda3\n",
    "        self.p = p  ## depth of the circuit\n",
    "        \n",
    "    def maxcut_obj(self , x, G):\n",
    "\n",
    "        obj = 0\n",
    "        for i, j in G.edges():\n",
    "            if x[i] == x[j] and x[i] == \"1\":\n",
    "                obj += G.edges[(i,j)][\"weight\"]\n",
    "\n",
    "        for i in G.nodes():\n",
    "            if x[i] == \"1\":\n",
    "                obj += G.nodes[i][\"weight\"]\n",
    "        return obj\n",
    "\n",
    "\n",
    "    def compute_expectation(self , counts, G):\n",
    "\n",
    "        avg = 0\n",
    "        sum_count = 0\n",
    "        for bitstring, count in counts.items():\n",
    "\n",
    "            obj = self.maxcut_obj(bitstring, G)\n",
    "            avg += obj * count\n",
    "            sum_count += count\n",
    "\n",
    "        return avg/sum_count\n",
    "\n",
    "\n",
    "    def create_qaoa_circ(self , G, params):\n",
    "\n",
    "        nqubits = len(G.nodes())\n",
    "        qc = QuantumCircuit(nqubits)\n",
    "        \n",
    "        theta  =  params[:(p *2)]                          \n",
    "        power = params[(p *2):nqubits+(p *2)]  \n",
    "        s1 = params[nqubits+(p *2):2*(nqubits+p)] \n",
    "        s2 = params[-nqubits:] \n",
    "        \n",
    "        gamma = theta[:self.p ]\n",
    "        beta = theta[-self.p :]\n",
    "\n",
    "        # initial_state\n",
    "        for i in range(0, nqubits):\n",
    "            qc.h(i)\n",
    "        qc.barrier()\n",
    "        for irep in range(0, self.p):\n",
    "\n",
    "            # problem unitary\n",
    "            for nod in range(0, nqubits):\n",
    "                unit_cost =  self.nodes[nod].A +  self.nodes[nod].B* power[nod] +  \n",
    "                self.nodes[nod].C*power[nod]**2\n",
    "                qc.rz(2 * gamma[irep]*unit_cost, nod)\n",
    "                \n",
    "                ### these corresponds to the constraint lambda_1(P_1 - L)^{2}\n",
    "                qc.rz(2 * gamma[irep]* (lambda1[nod]*(power[nod] - self.load)**2), nod)\n",
    "                \n",
    "                ### these corresponds to the constraint lambda_2(P_1 - s_{1,1} - p_{min,1})^{2}\n",
    "                qc.rz(2 * gamma[irep]* (lambda2[nod]*(power[nod] - s1[nod] - self.nodes[nod].minCapacity)**2), nod)\n",
    "                \n",
    "                ### these corresponds to the constraint lambda_3(P_1 + s_{2,1} - p_{max,1})^{2}\n",
    "                qc.rz(2 * gamma[irep]* (lambda2[nod]*(power[nod] + s2[nod] - self.nodes[nod].maxCapacity)**2), nod)\n",
    "                \n",
    "            qc.barrier()\n",
    "\n",
    "\n",
    "            # mixer unitary\n",
    "            for i in range(0, nqubits):\n",
    "                qc.rx(2 * beta[irep], i)\n",
    "\n",
    "        qc.measure_all()\n",
    "\n",
    "        return qc\n",
    "\n",
    "    # Finally we write a function that executes the circuit on the chosen backend\n",
    "    def get_expectation(self , G, params , backend, shotsin,seed):\n",
    "        \n",
    "        \n",
    "        def execute_circ(params):\n",
    "            \n",
    "            qc = self.create_qaoa_circ(G, params)\n",
    "\n",
    "            # We need this step if we want to run on hardware.# tqc = qiskit.compiler.transpile(qc,backend)\n",
    "            tqc = qc\n",
    "            #print(theta)\n",
    "            counts = backend.run(tqc, seed_simulator=seed,shots = shotsin).result().get_counts()\n",
    "\n",
    "            return self.compute_expectation(counts, G)\n",
    "\n",
    "        return execute_circ"
   ]
  },
  {
   "cell_type": "code",
   "execution_count": null,
   "id": "71fc6034",
   "metadata": {},
   "outputs": [],
   "source": []
  },
  {
   "cell_type": "code",
   "execution_count": 17,
   "id": "b9d9aa4a",
   "metadata": {},
   "outputs": [
    {
     "data": {
      "text/plain": [
       "250.0"
      ]
     },
     "execution_count": 17,
     "metadata": {},
     "output_type": "execute_result"
    }
   ],
   "source": [
    "np.ceil(load /nqubits)"
   ]
  },
  {
   "cell_type": "code",
   "execution_count": 19,
   "id": "d5d72012",
   "metadata": {
    "scrolled": true
   },
   "outputs": [],
   "source": [
    "  ####  initalzing te mode . initial values are important !\n",
    "nqubits = len(G.nodes())\n",
    "backend = Aer.get_backend('qasm_simulator')\n",
    "\n",
    "load = 1000.0\n",
    "seed = 5\n",
    "\n",
    "p = 3\n",
    "theta = [1.0]* 2 * p\n",
    "\n",
    "##using initial power disribution\n",
    "power = [np.ceil(load /nqubits)] * nqubits\n",
    "\n",
    "##using initial power disribution\n",
    "\n",
    "\n",
    "s1 = [0.0] * nqubits\n",
    "s2 = [0.0] * nqubits\n",
    "## these variables are penalizing constraints and are set emprically\n",
    "lambda1  = [1.0]*nqubits\n",
    "lambda2  = [1.0]*nqubits\n",
    "lambda3  = [1.0]*nqubits\n",
    "\n",
    "quc = QUCProblem(nodes , lambda1 , lambda2 , lambda3 , load = load , p=p)\n",
    "\n",
    "# Number of quantum measurements each time the quantum circuit is called\n",
    "shotsin = 2000\n",
    "maxiter = 10000\n",
    "\n",
    "\n",
    "options = {'maxiter': maxiter}\n",
    "backend = Aer.get_backend('aer_simulator')\n",
    "\n",
    "#res = minimize(expectation,[theta0 , power , s1 , s2],options=options,method='Nelder-Mead')\n"
   ]
  },
  {
   "cell_type": "markdown",
   "id": "a29fb3e4",
   "metadata": {},
   "source": [
    "### Analyzing the result"
   ]
  },
  {
   "cell_type": "markdown",
   "id": "425e56f1",
   "metadata": {},
   "source": [
    "As discussed previously, the job of the classical computer in QAOA is to optimize the variational parameters: $\\gamma = (\\gamma_1 , \\gamma_2, ..., \\gamma_P )$ and $\\beta = (\\beta_1 , \\beta_2 , ..., \\beta_P )$ where\n",
    "$\\gamma_i , \\beta_i \\in [0, 2\\pi)$. We also use the classical optimizer to find the  individual unit power\n",
    "values that minimize the cost function.  Specifically using the Nelder-Mead algorithm [[3]](https://docs.scipy.org/doc/scipy/reference/optimize.minimize-neldermead.html)  from SciPy’s optimize package  with the $\\gamma, \\beta, p, s$ as the arguments.  For each iteration of  the classical minimizer,\n",
    "we simulate a quantum processor to execute QAOA. This returns a probability distribution of the optimal combinations of units to be used, given the power values that the classical minimizer has designated to each unit."
   ]
  },
  {
   "cell_type": "code",
   "execution_count": 29,
   "id": "6d6ff688",
   "metadata": {},
   "outputs": [],
   "source": [
    "\n",
    "params =  np.concatenate( [theta , power , s1 , s2] , axis=0 )                         \n",
    "\n",
    "expectation = quc.get_expectation(G, params ,backend, shotsin,seed)\n",
    "\n",
    "result = minimize(expectation,  params,options=options,method='Nelder-Mead')\n",
    "if res.success:\n",
    "    qc_res = quc.create_qaoa_circ(G, result.x )\n",
    "    counts = backend.run(qc_res, seed_simulator=seed,shots = shotsin).result().get_counts()\n",
    "else:\n",
    "    raise ValueError(result.message)\n"
   ]
  },
  {
   "cell_type": "code",
   "execution_count": 30,
   "id": "59cd8ab4",
   "metadata": {
    "scrolled": true
   },
   "outputs": [
    {
     "data": {
      "image/png": "[encoded data removed]",
      "text/plain": [
       "<Figure size 504x360 with 1 Axes>"
      ]
     },
     "execution_count": 30,
     "metadata": {},
     "output_type": "execute_result"
    }
   ],
   "source": [
    "plot_histogram(counts)"
   ]
  },
  {
   "cell_type": "code",
   "execution_count": 31,
   "id": "704dabc9",
   "metadata": {},
   "outputs": [
    {
     "data": {
      "image/png": "[encoded data removed]",
      "text/plain": [
       "<Figure size 1621.88x686.28 with 1 Axes>"
      ]
     },
     "execution_count": 31,
     "metadata": {},
     "output_type": "execute_result"
    }
   ],
   "source": [
    "qc_res.draw(\"mpl\")"
   ]
  },
  {
   "cell_type": "markdown",
   "id": "99c3b9c1",
   "metadata": {},
   "source": [
    "### The total cost and the power distribution results"
   ]
  },
  {
   "cell_type": "code",
   "execution_count": 32,
   "id": "97c112bd",
   "metadata": {},
   "outputs": [],
   "source": [
    "def print_results(nodes , power ):\n",
    "\n",
    "    total_cost = 0.0\n",
    "    i = 0\n",
    "\n",
    "    print(\"Load requirement : \" , load)\n",
    "    print(\"There are \", len(nodes) , \"nodes\")\n",
    "    print(\"Indiviual unit power specifics: \")\n",
    "    for node in nodes:\n",
    "        print(\"Node: \", (i+1) , \" , cost : \" , node.A , \"+\" , node.B , \"*p +\" , node.C , \"p**2 , Min Capacity :\" , node.maxCapacity , \" , Max Capacity: \" , node.maxCapacity)\n",
    "        total_cost += node.A + node.B*power[i] + node.C * power[i]**2\n",
    "        i +=1 \n",
    "\n",
    "    print(\"power disribution results :\")\n",
    "    print(power)\n",
    "\n",
    "\n",
    "    print(\"The total cost = %e $ \"%(total_cost))\n"
   ]
  },
  {
   "cell_type": "code",
   "execution_count": 33,
   "id": "8570b41d",
   "metadata": {},
   "outputs": [
    {
     "name": "stdout",
     "output_type": "stream",
     "text": [
      "Load requirement :  1000.0\n",
      "There are  4 nodes\n",
      "Indiviual unit power specifics: \n",
      "Node:  1  , cost :  30 + 25 *p + 100 p**2 , Min Capacity : 300  , Max Capacity:  300\n",
      "Node:  2  , cost :  50 + 10 *p + 80 p**2 , Min Capacity : 300  , Max Capacity:  300\n",
      "Node:  3  , cost :  20 + 30 *p + 120 p**2 , Min Capacity : 900  , Max Capacity:  900\n",
      "Node:  4  , cost :  20 + 20 *p + 70 p**2 , Min Capacity : 900  , Max Capacity:  900\n",
      "power disribution results :\n",
      "[249.87851176 247.71648792 251.67750005 254.91038755]\n",
      "The total cost = 2.332404e+07 $ \n"
     ]
    }
   ],
   "source": [
    "power = result.x[(p *2):nqubits+(p *2)]  \n",
    "print_results(nodes , power)"
   ]
  },
  {
   "cell_type": "markdown",
   "id": "153b680d",
   "metadata": {},
   "source": [
    "### Quantum Circuit Cost"
   ]
  },
  {
   "cell_type": "code",
   "execution_count": 34,
   "id": "085db3dd",
   "metadata": {},
   "outputs": [],
   "source": [
    "def quantum_solution_cost(G , p ,result , shotsin):\n",
    "    \n",
    "    task_price = 0.25 # price for submitting task to system (in dollars)\n",
    "\n",
    "    pHGate = 0.0001 # price for a single Hadamard  gate (in dollars)\n",
    "    pZrot = 0.00003 # price for a single Z rotation (in dollars)\n",
    "    pXrot = 0.00008 # price for a single X rotation (in dollars)\n",
    "\n",
    "    price_per_shot = len(G.nodes()) * p * ( 4.0 *  pZrot +  pHGate + pXrot)\n",
    "\n",
    "    Optim_evals = result.nfev # Number of optimization steps i.e. the number of times the quantum hardware was called.\n",
    "    Meas_shots = shotsin # Number of measurements of quantum hardware i.e. number of times the circuit was\n",
    "    # applied to the hardware.\n",
    "\n",
    "    return (Optim_evals * shotsin * price_per_shot) + task_price\n"
   ]
  },
  {
   "cell_type": "code",
   "execution_count": 35,
   "id": "a13d5353",
   "metadata": {},
   "outputs": [
    {
     "name": "stdout",
     "output_type": "stream",
     "text": [
      "The estimated cost of quantum solution is = $7005.85\n"
     ]
    }
   ],
   "source": [
    "print(\"The estimated cost of quantum solution is = $\"+str(quantum_solution_cost(G , p ,result , shotsin)))"
   ]
  },
  {
   "cell_type": "markdown",
   "id": "39828ce4",
   "metadata": {},
   "source": [
    "### Exact Solution\n",
    "\n",
    "In this section we find the exact ground state of the above Hamiltonian by finding the eigenstates with the lowest energy. This only works for a small number of qubits, due to the exponential scaling of the computational complexity, but it is useful for benchmarking the QAOA algorithm that we will describe below. "
   ]
  },
  {
   "cell_type": "code",
   "execution_count": 36,
   "id": "3fb8a43c",
   "metadata": {
    "scrolled": true
   },
   "outputs": [
    {
     "name": "stdout",
     "output_type": "stream",
     "text": [
      "The cost of the optimal solution is -4.000000000000001\n"
     ]
    }
   ],
   "source": [
    "import numpy as np\n",
    "import scipy.sparse.linalg as sla\n",
    "import copy\n",
    "\n",
    "edges = np.zeros((len(G.edges()),2),dtype=int)\n",
    "we = np.zeros(len(G.edges()),dtype=float)\n",
    "iter = 0\n",
    "for x in G.edges():\n",
    "    edges[iter,0] = x[0]\n",
    "    edges[iter,1] = x[1]\n",
    "    we[iter] = G.edges[x][\"weight\"]\n",
    "    iter = iter + 1\n",
    "\n",
    "wn = np.zeros(len(G.nodes()),dtype=float)\n",
    "iter = 0\n",
    "for i in G.nodes():\n",
    "    wn[iter] = G.nodes[i][\"weight\"]\n",
    "    iter = iter + 1\n",
    "\n",
    "def TensorProd(A):\n",
    "\n",
    "    out = np.kron(A[0],A[1])\n",
    "    for oo in range(2,len(A)):\n",
    "        out = np.kron(out,A[oo])\n",
    "\n",
    "    return out\n",
    "\n",
    "sz = [[1.0,0.0],[0.0,0.0]]\n",
    "\n",
    "A0 = []\n",
    "for n in range(0,len(nodes)):\n",
    "    A0.append(np.eye(2))\n",
    "\n",
    "out = TensorProd(A0)\n",
    "\n",
    "Ham = np.zeros((np.power(2,len(nodes)),np.power(2,len(nodes))),dtype=float)\n",
    "for p in range(0,len(nodes)):\n",
    "    A = copy.deepcopy(A0)\n",
    "    A[p] = sz\n",
    "    Ham += wn[p] * TensorProd(A)\n",
    "\n",
    "for p in range(0,len(G.edges())):\n",
    "    A = copy.deepcopy(A0)\n",
    "    A[edges[p][0]] = sz\n",
    "    A[edges[p][1]] = sz\n",
    "    Ham += we[p] * TensorProd(A)\n",
    "\n",
    "Egs_exact, V = sla.eigs(Ham, 1, which='SR')\n",
    "\n",
    "print(\"The cost of the optimal solution is \"+str(np.real(Egs_exact[0])))"
   ]
  },
  {
   "cell_type": "markdown",
   "id": "4706c0fb",
   "metadata": {},
   "source": [
    "### Larger Example (TODO)"
   ]
  },
  {
   "cell_type": "markdown",
   "id": "a45b1ef4",
   "metadata": {},
   "source": [
    "![alt text](./images/table1.jpg \"ref[]\")\n"
   ]
  },
  {
   "cell_type": "code",
   "execution_count": 36,
   "id": "915d48c3",
   "metadata": {},
   "outputs": [],
   "source": [
    "## first result :The cost of the optimal solution is -41273866.00000007\n"
   ]
  },
  {
   "cell_type": "markdown",
   "id": "e7eb55e8",
   "metadata": {},
   "source": [
    "# UC as a Quadratic Program (TODO)\n",
    "\n"
   ]
  },
  {
   "cell_type": "code",
   "execution_count": 1,
   "id": "483451cf",
   "metadata": {},
   "outputs": [],
   "source": [
    "from qiskit_optimization import QuadraticProgram\n",
    "from qiskit_optimization.translators import from_docplex_mp"
   ]
  },
  {
   "cell_type": "code",
   "execution_count": null,
   "id": "feec6d29",
   "metadata": {},
   "outputs": [],
   "source": []
  },
  {
   "cell_type": "code",
   "execution_count": null,
   "id": "2831da36",
   "metadata": {},
   "outputs": [],
   "source": []
  },
  {
   "cell_type": "markdown",
   "id": "e6653867",
   "metadata": {},
   "source": [
    "### Higher values of $p$\n"
   ]
  },
  {
   "cell_type": "markdown",
   "id": "f801c922",
   "metadata": {},
   "source": [
    "Theoretically , QAOA can recover better energy values of the cost Hamiltonian with  larger depth $p$ values. At infinte ciruit depth, QAOA can reach the quantum adiapatic algorithm which solves the problem[[2]](https://arxiv.org/abs/quant-ph/0104129)\n",
    "$$\n",
    "\\lim\\limits_{p \\to \\inf} M_p = C_{max}.\n",
    "$$\n",
    "\n",
    "where $C_{max}$ is the maximal cost function value. \n",
    "\n",
    "However, this requires infinte circuit depth. We are using small values of $p$ to reduce gate count and minimize error resulting from the short lifetime of qubits and large number of QAOA parameters."
   ]
  },
  {
   "cell_type": "markdown",
   "id": "46e184d4",
   "metadata": {},
   "source": [
    "## Conclusion (TODO)\n",
    "\n",
    "Number of gates required is $O(6N*P)$  where $N$ is the number of nodes and $P$ is the depth of the circuit."
   ]
  },
  {
   "cell_type": "code",
   "execution_count": null,
   "id": "c3b935ff",
   "metadata": {},
   "outputs": [],
   "source": [
    "from qiskit_optimization import QuadraticProgram\n",
    "from qiskit_optimization.translators import from_docplex_mp"
   ]
  },
  {
   "cell_type": "markdown",
   "id": "a5b8fa51",
   "metadata": {},
   "source": [
    "## References<a id=\"references\"></a>\n",
    "[[1] Adapting Quantum Approximation Optimization Algorithm (QAOA) for Unit Commitment\n",
    "](https://arxiv.org/abs/2110.12624) by Samantha Koretsky et al.\n",
    "\n",
    "[[2]“A quantum adiabatic evolution algorithm applied to random instances of an NP-complete problem”](https://arxiv.org/abs/quant-ph/0104129) by Edward Farhi et al.In: Science 292.5516\n",
    "(2001), pp. 472–475.\n",
    "\n",
    "[[3]The SciPy community.minimize(method=Nelder-Mead)](https://docs.scipy.org/doc/scipy/reference/optimize.minimize-neldermead.html)\n"
   ]
  },
  {
   "cell_type": "code",
   "execution_count": null,
   "id": "6583b87d",
   "metadata": {},
   "outputs": [],
   "source": []
  },
  {
   "cell_type": "code",
   "execution_count": null,
   "id": "71904f95",
   "metadata": {},
   "outputs": [],
   "source": []
  }
 ],
 "metadata": {
  "kernelspec": {
   "display_name": "Python 3 (ipykernel)",
   "language": "python",
   "name": "python3"
  },
  "language_info": {
   "codemirror_mode": {
    "name": "ipython",
    "version": 3
   },
   "file_extension": ".py",
   "mimetype": "text/x-python",
   "name": "python",
   "nbconvert_exporter": "python",
   "pygments_lexer": "ipython3",
   "version": "3.10.4"
  },
  "vscode": {
   "interpreter": {
    "hash": "82a5ecfa235c1ae66578ca33c01df8bd059aa6dc6013b9541a30e78a452567e5"
   }
  }
 },
 "nbformat": 4,
 "nbformat_minor": 5
}
